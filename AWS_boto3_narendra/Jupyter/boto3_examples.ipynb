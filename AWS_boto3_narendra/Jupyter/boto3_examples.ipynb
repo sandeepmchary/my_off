{
 "cells": [
  {
   "cell_type": "markdown",
   "metadata": {},
   "source": [
    "## listing all users in aws with resource"
   ]
  },
  {
   "cell_type": "code",
   "execution_count": 2,
   "metadata": {},
   "outputs": [
    {
     "name": "stdout",
     "output_type": "stream",
     "text": [
      "iam.User(name='admin')\n",
      "iam.User(name='dowithpython')\n",
      "iam.User(name='dowithpython1')\n",
      "iam.User(name='dowithpython2')\n",
      "iam.User(name='lenovokeypad')\n",
      "iam.User(name='logitech123')\n",
      "iam.User(name='logitech1234')\n",
      "iam.User(name='logitech1235')\n",
      "iam.User(name='logitech12356')\n",
      "iam.User(name='logitech12357')\n",
      "iam.User(name='unibic123')\n",
      "iam.User(name='unibic1234')\n",
      "iam.User(name='valaxy')\n",
      "iam.User(name='valaxy1')\n"
     ]
    }
   ],
   "source": [
    "import boto3\n",
    "iam_re=boto3.resource('iam')\n",
    "for each in iam_re.users.all():\n",
    "    print(each)"
   ]
  },
  {
   "cell_type": "code",
   "execution_count": 4,
   "metadata": {},
   "outputs": [
    {
     "name": "stdout",
     "output_type": "stream",
     "text": [
      "admin\n",
      "dowithpython\n",
      "dowithpython1\n",
      "dowithpython2\n",
      "lenovokeypad\n",
      "logitech123\n",
      "logitech1234\n",
      "logitech1235\n",
      "logitech12356\n",
      "logitech12357\n",
      "unibic123\n",
      "unibic1234\n",
      "valaxy\n",
      "valaxy1\n"
     ]
    }
   ],
   "source": [
    "import boto3\n",
    "iam_re=boto3.resource('iam')\n",
    "for user in iam_re.users.all():\n",
    "    print(user.name)"
   ]
  },
  {
   "cell_type": "markdown",
   "metadata": {},
   "source": [
    "## Listing all users with client"
   ]
  },
  {
   "cell_type": "code",
   "execution_count": 5,
   "metadata": {},
   "outputs": [
    {
     "name": "stdout",
     "output_type": "stream",
     "text": [
      "Users\n",
      "IsTruncated\n",
      "ResponseMetadata\n"
     ]
    }
   ],
   "source": [
    "import boto3\n",
    "iam_cli=boto3.client('iam')\n",
    "for user in iam_cli.list_users():\n",
    "    print(user)"
   ]
  },
  {
   "cell_type": "code",
   "execution_count": 6,
   "metadata": {},
   "outputs": [
    {
     "name": "stdout",
     "output_type": "stream",
     "text": [
      "{'Path': '/', 'UserName': 'admin', 'UserId': 'AIDARZAWOTARKEJRJHUTM', 'Arn': 'arn:aws:iam::122453661730:user/admin', 'CreateDate': datetime.datetime(2020, 7, 4, 15, 27, 15, tzinfo=tzutc())}\n",
      "{'Path': '/', 'UserName': 'dowithpython', 'UserId': 'AIDARZAWOTARFQUI53D3C', 'Arn': 'arn:aws:iam::122453661730:user/dowithpython', 'CreateDate': datetime.datetime(2020, 10, 21, 17, 40, 36, tzinfo=tzutc())}\n",
      "{'Path': '/', 'UserName': 'dowithpython1', 'UserId': 'AIDARZAWOTARG5JGEJKL3', 'Arn': 'arn:aws:iam::122453661730:user/dowithpython1', 'CreateDate': datetime.datetime(2020, 10, 21, 17, 42, 12, tzinfo=tzutc())}\n",
      "{'Path': '/', 'UserName': 'dowithpython2', 'UserId': 'AIDARZAWOTARLTCS6F3Q3', 'Arn': 'arn:aws:iam::122453661730:user/dowithpython2', 'CreateDate': datetime.datetime(2020, 10, 21, 17, 47, 14, tzinfo=tzutc()), 'PasswordLastUsed': datetime.datetime(2020, 10, 21, 17, 47, 33, tzinfo=tzutc())}\n",
      "{'Path': '/', 'UserName': 'lenovokeypad', 'UserId': 'AIDARZAWOTARAJI4FGBOJ', 'Arn': 'arn:aws:iam::122453661730:user/lenovokeypad', 'CreateDate': datetime.datetime(2020, 10, 10, 9, 37, 6, tzinfo=tzutc())}\n",
      "{'Path': '/', 'UserName': 'logitech123', 'UserId': 'AIDARZAWOTARGDSZEMMGX', 'Arn': 'arn:aws:iam::122453661730:user/logitech123', 'CreateDate': datetime.datetime(2020, 10, 21, 18, 18, 2, tzinfo=tzutc())}\n",
      "{'Path': '/', 'UserName': 'logitech1234', 'UserId': 'AIDARZAWOTARDED5WSHZB', 'Arn': 'arn:aws:iam::122453661730:user/logitech1234', 'CreateDate': datetime.datetime(2020, 10, 21, 18, 19, 52, tzinfo=tzutc())}\n",
      "{'Path': '/', 'UserName': 'logitech1235', 'UserId': 'AIDARZAWOTARAUGANL6GD', 'Arn': 'arn:aws:iam::122453661730:user/logitech1235', 'CreateDate': datetime.datetime(2020, 10, 21, 18, 21, 59, tzinfo=tzutc())}\n",
      "{'Path': '/', 'UserName': 'logitech12356', 'UserId': 'AIDARZAWOTARNFLK64AVL', 'Arn': 'arn:aws:iam::122453661730:user/logitech12356', 'CreateDate': datetime.datetime(2020, 10, 21, 18, 22, 34, tzinfo=tzutc())}\n",
      "{'Path': '/', 'UserName': 'logitech12357', 'UserId': 'AIDARZAWOTARGO3B3QH7H', 'Arn': 'arn:aws:iam::122453661730:user/logitech12357', 'CreateDate': datetime.datetime(2020, 10, 21, 18, 23, 5, tzinfo=tzutc())}\n",
      "{'Path': '/', 'UserName': 'unibic123', 'UserId': 'AIDARZAWOTARPQFBOQS6M', 'Arn': 'arn:aws:iam::122453661730:user/unibic123', 'CreateDate': datetime.datetime(2020, 10, 22, 17, 51, 50, tzinfo=tzutc())}\n",
      "{'Path': '/', 'UserName': 'unibic1234', 'UserId': 'AIDARZAWOTARFUKNDFWWR', 'Arn': 'arn:aws:iam::122453661730:user/unibic1234', 'CreateDate': datetime.datetime(2020, 10, 22, 17, 53, 32, tzinfo=tzutc())}\n",
      "{'Path': '/', 'UserName': 'valaxy', 'UserId': 'AIDARZAWOTARNATKSQWG3', 'Arn': 'arn:aws:iam::122453661730:user/valaxy', 'CreateDate': datetime.datetime(2020, 7, 9, 15, 13, 30, tzinfo=tzutc())}\n",
      "{'Path': '/', 'UserName': 'valaxy1', 'UserId': 'AIDARZAWOTARAEUOOG4SB', 'Arn': 'arn:aws:iam::122453661730:user/valaxy1', 'CreateDate': datetime.datetime(2020, 7, 9, 15, 14, 28, tzinfo=tzutc())}\n"
     ]
    }
   ],
   "source": [
    "import boto3\n",
    "iam_cli=boto3.client('iam')\n",
    "for user in iam_cli.list_users()['Users']:\n",
    "    print(user)"
   ]
  },
  {
   "cell_type": "code",
   "execution_count": 7,
   "metadata": {},
   "outputs": [
    {
     "name": "stdout",
     "output_type": "stream",
     "text": [
      "admin\n",
      "dowithpython\n",
      "dowithpython1\n",
      "dowithpython2\n",
      "lenovokeypad\n",
      "logitech123\n",
      "logitech1234\n",
      "logitech1235\n",
      "logitech12356\n",
      "logitech12357\n",
      "unibic123\n",
      "unibic1234\n",
      "valaxy\n",
      "valaxy1\n"
     ]
    }
   ],
   "source": [
    "import boto3\n",
    "iam_cli=boto3.client('iam')\n",
    "for user in iam_cli.list_users()['Users']:\n",
    "    print(user['UserName'])"
   ]
  },
  {
   "cell_type": "markdown",
   "metadata": {},
   "source": [
    "## List all Users,ec2,s3 with client"
   ]
  },
  {
   "cell_type": "code",
   "execution_count": 16,
   "metadata": {},
   "outputs": [
    {
     "name": "stdout",
     "output_type": "stream",
     "text": [
      "admin\n",
      "dowithpython\n",
      "dowithpython1\n",
      "dowithpython2\n",
      "lenovokeypad\n",
      "logitech123\n",
      "logitech1234\n",
      "logitech1235\n",
      "logitech12356\n",
      "logitech12357\n",
      "unibic123\n",
      "unibic1234\n",
      "valaxy\n",
      "valaxy1\n"
     ]
    }
   ],
   "source": [
    "import boto3\n",
    "iam_cli=boto3.client('iam')\n",
    "ec2_cli=boto3.client('ec2')\n",
    "s3_cli=boto3.client('s3')\n",
    "# listing all users using client object\n",
    "response=iam_cli.list_users()\n",
    "for user in response['Users']:\n",
    "    print(user['UserName'])\n"
   ]
  },
  {
   "cell_type": "code",
   "execution_count": 19,
   "metadata": {},
   "outputs": [
    {
     "name": "stdout",
     "output_type": "stream",
     "text": [
      "ami-01e36b7901e884a10 i-08c45218b24fc34d9\n"
     ]
    }
   ],
   "source": [
    "# List all ec2 instances\n",
    "import boto3\n",
    "ec2_cli=boto3.client('ec2')\n",
    "for each in ec2_cli.describe_instances()['Reservations']:\n",
    "    for each_item in each['Instances']:\n",
    "        print(each_item['ImageId'],each_item['InstanceId'])"
   ]
  },
  {
   "cell_type": "code",
   "execution_count": 21,
   "metadata": {},
   "outputs": [
    {
     "name": "stdout",
     "output_type": "stream",
     "text": [
      "samantha752020\n",
      "samanthadestination\n",
      "samanthasource\n",
      "samsam720207\n"
     ]
    }
   ],
   "source": [
    "# list all s3 buckets\n",
    "import boto3\n",
    "s3_cli=boto3.client('s3')\n",
    "for bucket in s3_cli.list_buckets()['Buckets']:\n",
    "    print(bucket['Name'])"
   ]
  },
  {
   "cell_type": "markdown",
   "metadata": {},
   "source": []
  }
 ],
 "metadata": {
  "kernelspec": {
   "display_name": "Python 3",
   "language": "python",
   "name": "python3"
  },
  "language_info": {
   "codemirror_mode": {
    "name": "ipython",
    "version": 3
   },
   "file_extension": ".py",
   "mimetype": "text/x-python",
   "name": "python",
   "nbconvert_exporter": "python",
   "pygments_lexer": "ipython3",
   "version": "3.8.0"
  }
 },
 "nbformat": 4,
 "nbformat_minor": 4
}
