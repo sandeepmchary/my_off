{
 "cells": [
  {
   "cell_type": "code",
   "execution_count": null,
   "metadata": {},
   "outputs": [],
   "source": [
    "# import python packages\n",
    "import boto3\n",
    "import os\n",
    "from operator import itemgetter\n",
    "aws_region='us-east-1'\n",
    "aws_az1='us-east-1a'\n",
    "aws_az2='us-east-1b'\n",
    "vpc_cidr=\"10.0.0.0/16\"\n",
    "public_subnet_cidr=\"10.0.1.0/24\"\n",
    "private_subnet_cidr=\"10.0.2.0/24\"\n",
    "source_cidr=\"0.0.0.0\"\n"
   ]
  }
 ],
 "metadata": {
  "kernelspec": {
   "display_name": "Python 3",
   "language": "python",
   "name": "python3"
  },
  "language_info": {
   "codemirror_mode": {
    "name": "ipython",
    "version": 3
   },
   "file_extension": ".py",
   "mimetype": "text/x-python",
   "name": "python",
   "nbconvert_exporter": "python",
   "pygments_lexer": "ipython3",
   "version": "3.8.0"
  }
 },
 "nbformat": 4,
 "nbformat_minor": 4
}
