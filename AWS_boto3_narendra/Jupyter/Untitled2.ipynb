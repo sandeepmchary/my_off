{
 "cells": [
  {
   "cell_type": "code",
   "execution_count": 2,
   "metadata": {},
   "outputs": [
    {
     "name": "stdout",
     "output_type": "stream",
     "text": [
      "['__class__', '__delattr__', '__dict__', '__dir__', '__doc__', '__eq__', '__format__', '__ge__', '__getattribute__', '__gt__', '__hash__', '__init__', '__init_subclass__', '__le__', '__lt__', '__module__', '__ne__', '__new__', '__reduce__', '__reduce_ex__', '__repr__', '__setattr__', '__sizeof__', '__str__', '__subclasshook__', '__weakref__', '_id', 'copy', 'create_tags', 'data_encryption_key_id', 'delete', 'describe_attribute', 'description', 'encrypted', 'get_available_subresources', 'id', 'kms_key_id', 'load', 'meta', 'modify_attribute', 'owner_alias', 'owner_id', 'progress', 'reload', 'reset_attribute', 'snapshot_id', 'start_time', 'state', 'state_message', 'tags', 'volume', 'volume_id', 'volume_size', 'wait_until_completed']\n"
     ]
    }
   ],
   "source": [
    "import boto3\n",
    "import datetime\n",
    "ec2_re=boto3.resource('ec2')\n",
    "snapshot=ec2_re.Snapshot('id')\n",
    "print(dir(snapshot))"
   ]
  },
  {
   "cell_type": "code",
   "execution_count": 6,
   "metadata": {},
   "outputs": [
    {
     "name": "stdout",
     "output_type": "stream",
     "text": [
      "2020-10-24 14:46:45.557000+00:00\n",
      "2020-10-24 14:46:17.262000+00:00\n",
      "2020-10-24 14:44:51.201000+00:00\n",
      "2020-10-24 14:49:45.556000+00:00\n",
      "2020-10-24 14:44:08.599000+00:00\n",
      "2020-10-24 14:41:02.291000+00:00\n",
      "2020-10-24 14:49:11.125000+00:00\n",
      "2020-10-24 14:52:32.967000+00:00\n"
     ]
    }
   ],
   "source": [
    "import boto3\n",
    "ec2_re=boto3.resource('ec2')\n",
    "snapshots=ec2_re.snapshots.filter(OwnerIds=['self'])\n",
    "for snapshot in snapshots:\n",
    "    start_time=snapshot.start_time\n",
    "    print(start_time)"
   ]
  },
  {
   "cell_type": "code",
   "execution_count": 16,
   "metadata": {},
   "outputs": [
    {
     "name": "stdout",
     "output_type": "stream",
     "text": [
      "Region eu-north-1\n",
      "[]\n",
      "Region ap-south-1\n",
      "[]\n",
      "Region eu-west-3\n",
      "[]\n",
      "Region eu-west-2\n",
      "[]\n",
      "Region eu-west-1\n",
      "[]\n",
      "Region ap-northeast-2\n",
      "[]\n",
      "Region ap-northeast-1\n",
      "[]\n",
      "Region sa-east-1\n",
      "[]\n",
      "Region ca-central-1\n",
      "[]\n",
      "Region ap-southeast-1\n",
      "[]\n",
      "Region ap-southeast-2\n",
      "[]\n",
      "Region eu-central-1\n",
      "[]\n",
      "Region us-east-1\n",
      "[{'Description': 'Created by CreateImage(i-0532ec7cf1d7603ac) for ami-0a3b584837008cd2d from vol-054b32b2b6ef45872', 'Encrypted': False, 'OwnerId': '122453661730', 'Progress': '100%', 'SnapshotId': 'snap-0ba47cbd325a91d56', 'StartTime': datetime.datetime(2020, 7, 13, 17, 59, 10, 329000, tzinfo=tzutc()), 'State': 'completed', 'VolumeId': 'vol-054b32b2b6ef45872', 'VolumeSize': 8}, {'Description': 'Created snapshot', 'Encrypted': False, 'OwnerId': '122453661730', 'Progress': '100%', 'SnapshotId': 'snap-0cd941f4a24112b20', 'StartTime': datetime.datetime(2020, 10, 24, 14, 46, 43, 191000, tzinfo=tzutc()), 'State': 'completed', 'VolumeId': 'vol-055ac87d224b3cc77', 'VolumeSize': 8}, {'Description': 'Created snapshot', 'Encrypted': False, 'OwnerId': '122453661730', 'Progress': '100%', 'SnapshotId': 'snap-093232160efcba706', 'StartTime': datetime.datetime(2020, 10, 24, 14, 52, 28, 405000, tzinfo=tzutc()), 'State': 'completed', 'VolumeId': 'vol-055ac87d224b3cc77', 'VolumeSize': 8, 'Tags': [{'Key': 'Name', 'Value': 'Centos'}]}, {'Description': 'Created snapshot', 'Encrypted': False, 'OwnerId': '122453661730', 'Progress': '100%', 'SnapshotId': 'snap-025901c7294f9a0bc', 'StartTime': datetime.datetime(2020, 10, 24, 14, 44, 6, 18000, tzinfo=tzutc()), 'State': 'completed', 'VolumeId': 'vol-055ac87d224b3cc77', 'VolumeSize': 8}, {'Description': 'Created snapshot', 'Encrypted': False, 'OwnerId': '122453661730', 'Progress': '100%', 'SnapshotId': 'snap-05601573cdcbe4f97', 'StartTime': datetime.datetime(2020, 10, 24, 14, 49, 8, 575000, tzinfo=tzutc()), 'State': 'completed', 'VolumeId': 'vol-055ac87d224b3cc77', 'VolumeSize': 8}, {'Description': 'Created snapshot', 'Encrypted': False, 'OwnerId': '122453661730', 'Progress': '100%', 'SnapshotId': 'snap-041617e47ad0975ab', 'StartTime': datetime.datetime(2020, 10, 24, 14, 44, 48, 278000, tzinfo=tzutc()), 'State': 'completed', 'VolumeId': 'vol-055ac87d224b3cc77', 'VolumeSize': 8}, {'Description': 'Created snapshot', 'Encrypted': False, 'OwnerId': '122453661730', 'Progress': '100%', 'SnapshotId': 'snap-075e5d1444317c2f3', 'StartTime': datetime.datetime(2020, 10, 24, 14, 49, 43, 189000, tzinfo=tzutc()), 'State': 'completed', 'VolumeId': 'vol-055ac87d224b3cc77', 'VolumeSize': 8}, {'Description': 'Created snapshot', 'Encrypted': False, 'OwnerId': '122453661730', 'Progress': '100%', 'SnapshotId': 'snap-0912d3854feb7bef4', 'StartTime': datetime.datetime(2020, 10, 24, 14, 40, 59, 488000, tzinfo=tzutc()), 'State': 'completed', 'VolumeId': 'vol-055ac87d224b3cc77', 'VolumeSize': 8}, {'Description': 'Created snapshot', 'Encrypted': False, 'OwnerId': '122453661730', 'Progress': '100%', 'SnapshotId': 'snap-0d9b431392f964ebc', 'StartTime': datetime.datetime(2020, 10, 24, 14, 46, 14, 726000, tzinfo=tzutc()), 'State': 'completed', 'VolumeId': 'vol-055ac87d224b3cc77', 'VolumeSize': 8}]\n",
      "Region us-east-2\n",
      "[{'Description': 'Created snapshot', 'Encrypted': False, 'OwnerId': '122453661730', 'Progress': '100%', 'SnapshotId': 'snap-0932e22dfdca1a7a4', 'StartTime': datetime.datetime(2020, 10, 24, 14, 46, 45, 557000, tzinfo=tzutc()), 'State': 'completed', 'VolumeId': 'vol-01a0444bda9e824db', 'VolumeSize': 8}, {'Description': 'Created snapshot', 'Encrypted': False, 'OwnerId': '122453661730', 'Progress': '100%', 'SnapshotId': 'snap-03d503bebd20e2b94', 'StartTime': datetime.datetime(2020, 10, 24, 14, 46, 17, 262000, tzinfo=tzutc()), 'State': 'completed', 'VolumeId': 'vol-01a0444bda9e824db', 'VolumeSize': 8}, {'Description': 'Created snapshot', 'Encrypted': False, 'OwnerId': '122453661730', 'Progress': '100%', 'SnapshotId': 'snap-0742f8b0fbc6a6866', 'StartTime': datetime.datetime(2020, 10, 24, 14, 44, 51, 201000, tzinfo=tzutc()), 'State': 'completed', 'VolumeId': 'vol-01a0444bda9e824db', 'VolumeSize': 8}, {'Description': 'Created snapshot', 'Encrypted': False, 'OwnerId': '122453661730', 'Progress': '100%', 'SnapshotId': 'snap-013ccd62c39d04e53', 'StartTime': datetime.datetime(2020, 10, 24, 14, 49, 45, 556000, tzinfo=tzutc()), 'State': 'completed', 'VolumeId': 'vol-01a0444bda9e824db', 'VolumeSize': 8}, {'Description': 'Created snapshot', 'Encrypted': False, 'OwnerId': '122453661730', 'Progress': '100%', 'SnapshotId': 'snap-0ed85e73628ed0a8e', 'StartTime': datetime.datetime(2020, 10, 24, 14, 44, 8, 599000, tzinfo=tzutc()), 'State': 'completed', 'VolumeId': 'vol-01a0444bda9e824db', 'VolumeSize': 8}, {'Description': 'Created snapshot', 'Encrypted': False, 'OwnerId': '122453661730', 'Progress': '100%', 'SnapshotId': 'snap-094cd5d2ed08cf77c', 'StartTime': datetime.datetime(2020, 10, 24, 14, 41, 2, 291000, tzinfo=tzutc()), 'State': 'completed', 'VolumeId': 'vol-01a0444bda9e824db', 'VolumeSize': 8}, {'Description': 'Created snapshot', 'Encrypted': False, 'OwnerId': '122453661730', 'Progress': '100%', 'SnapshotId': 'snap-05f2ed1e683098904', 'StartTime': datetime.datetime(2020, 10, 24, 14, 49, 11, 125000, tzinfo=tzutc()), 'State': 'completed', 'VolumeId': 'vol-01a0444bda9e824db', 'VolumeSize': 8}, {'Description': 'Created snapshot', 'Encrypted': False, 'OwnerId': '122453661730', 'Progress': '100%', 'SnapshotId': 'snap-0cc676d73e16375c0', 'StartTime': datetime.datetime(2020, 10, 24, 14, 52, 32, 967000, tzinfo=tzutc()), 'State': 'completed', 'VolumeId': 'vol-01a0444bda9e824db', 'VolumeSize': 8, 'Tags': [{'Key': 'Name', 'Value': 'Shell_Script'}]}]\n",
      "Region us-west-1\n",
      "[]\n",
      "Region us-west-2\n",
      "[]\n"
     ]
    }
   ],
   "source": [
    "import boto3\n",
    "ec2_cli=boto3.client('ec2')\n",
    "regions= [region['RegionName'] for region in ec2_cli.describe_regions()['Regions']]\n",
    "for region in regions:\n",
    "    print(\"Region\",region)\n",
    "    ec2_cli=boto3.client('ec2',region_name=region)\n",
    "    response=ec2_cli.describe_snapshots(OwnerIds=['self'])\n",
    "    '''snapshots=response\n",
    "    #print(response)\n",
    "    snapshots.sort(key=lambda x: x[\"StartTime\"])\n",
    "    # remove snapshots most recent 3\n",
    "    snapshots=snapshots[:-3]\n",
    "    prinnt(snapshots)\n",
    "    '''\n",
    "    print(response['Snapshots'])"
   ]
  },
  {
   "cell_type": "code",
   "execution_count": 26,
   "metadata": {},
   "outputs": [
    {
     "name": "stdout",
     "output_type": "stream",
     "text": [
      "Region eu-north-1\n",
      "[]\n",
      "Region ap-south-1\n",
      "[]\n",
      "Region eu-west-3\n",
      "[]\n",
      "Region eu-west-2\n",
      "[]\n",
      "Region eu-west-1\n",
      "[]\n",
      "Region ap-northeast-2\n",
      "[]\n",
      "Region ap-northeast-1\n",
      "[]\n",
      "Region sa-east-1\n",
      "[]\n",
      "Region ca-central-1\n",
      "[]\n",
      "Region ap-southeast-1\n",
      "[]\n",
      "Region ap-southeast-2\n",
      "[]\n",
      "Region eu-central-1\n",
      "[]\n",
      "Region us-east-1\n",
      "[{'Description': 'Created by CreateImage(i-0532ec7cf1d7603ac) for ami-0a3b584837008cd2d from vol-054b32b2b6ef45872', 'Encrypted': False, 'OwnerId': '122453661730', 'Progress': '100%', 'SnapshotId': 'snap-0ba47cbd325a91d56', 'StartTime': datetime.datetime(2020, 7, 13, 17, 59, 10, 329000, tzinfo=tzutc()), 'State': 'completed', 'VolumeId': 'vol-054b32b2b6ef45872', 'VolumeSize': 8}, {'Description': 'Created snapshot', 'Encrypted': False, 'OwnerId': '122453661730', 'Progress': '100%', 'SnapshotId': 'snap-0912d3854feb7bef4', 'StartTime': datetime.datetime(2020, 10, 24, 14, 40, 59, 488000, tzinfo=tzutc()), 'State': 'completed', 'VolumeId': 'vol-055ac87d224b3cc77', 'VolumeSize': 8}, {'Description': 'Created snapshot', 'Encrypted': False, 'OwnerId': '122453661730', 'Progress': '100%', 'SnapshotId': 'snap-025901c7294f9a0bc', 'StartTime': datetime.datetime(2020, 10, 24, 14, 44, 6, 18000, tzinfo=tzutc()), 'State': 'completed', 'VolumeId': 'vol-055ac87d224b3cc77', 'VolumeSize': 8}, {'Description': 'Created snapshot', 'Encrypted': False, 'OwnerId': '122453661730', 'Progress': '100%', 'SnapshotId': 'snap-041617e47ad0975ab', 'StartTime': datetime.datetime(2020, 10, 24, 14, 44, 48, 278000, tzinfo=tzutc()), 'State': 'completed', 'VolumeId': 'vol-055ac87d224b3cc77', 'VolumeSize': 8}, {'Description': 'Created snapshot', 'Encrypted': False, 'OwnerId': '122453661730', 'Progress': '100%', 'SnapshotId': 'snap-0d9b431392f964ebc', 'StartTime': datetime.datetime(2020, 10, 24, 14, 46, 14, 726000, tzinfo=tzutc()), 'State': 'completed', 'VolumeId': 'vol-055ac87d224b3cc77', 'VolumeSize': 8}, {'Description': 'Created snapshot', 'Encrypted': False, 'OwnerId': '122453661730', 'Progress': '100%', 'SnapshotId': 'snap-0cd941f4a24112b20', 'StartTime': datetime.datetime(2020, 10, 24, 14, 46, 43, 191000, tzinfo=tzutc()), 'State': 'completed', 'VolumeId': 'vol-055ac87d224b3cc77', 'VolumeSize': 8}]\n",
      "Region us-east-2\n",
      "[{'Description': 'Created snapshot', 'Encrypted': False, 'OwnerId': '122453661730', 'Progress': '100%', 'SnapshotId': 'snap-094cd5d2ed08cf77c', 'StartTime': datetime.datetime(2020, 10, 24, 14, 41, 2, 291000, tzinfo=tzutc()), 'State': 'completed', 'VolumeId': 'vol-01a0444bda9e824db', 'VolumeSize': 8}, {'Description': 'Created snapshot', 'Encrypted': False, 'OwnerId': '122453661730', 'Progress': '100%', 'SnapshotId': 'snap-0ed85e73628ed0a8e', 'StartTime': datetime.datetime(2020, 10, 24, 14, 44, 8, 599000, tzinfo=tzutc()), 'State': 'completed', 'VolumeId': 'vol-01a0444bda9e824db', 'VolumeSize': 8}, {'Description': 'Created snapshot', 'Encrypted': False, 'OwnerId': '122453661730', 'Progress': '100%', 'SnapshotId': 'snap-0742f8b0fbc6a6866', 'StartTime': datetime.datetime(2020, 10, 24, 14, 44, 51, 201000, tzinfo=tzutc()), 'State': 'completed', 'VolumeId': 'vol-01a0444bda9e824db', 'VolumeSize': 8}, {'Description': 'Created snapshot', 'Encrypted': False, 'OwnerId': '122453661730', 'Progress': '100%', 'SnapshotId': 'snap-03d503bebd20e2b94', 'StartTime': datetime.datetime(2020, 10, 24, 14, 46, 17, 262000, tzinfo=tzutc()), 'State': 'completed', 'VolumeId': 'vol-01a0444bda9e824db', 'VolumeSize': 8}, {'Description': 'Created snapshot', 'Encrypted': False, 'OwnerId': '122453661730', 'Progress': '100%', 'SnapshotId': 'snap-0932e22dfdca1a7a4', 'StartTime': datetime.datetime(2020, 10, 24, 14, 46, 45, 557000, tzinfo=tzutc()), 'State': 'completed', 'VolumeId': 'vol-01a0444bda9e824db', 'VolumeSize': 8}]\n",
      "Region us-west-1\n",
      "[]\n",
      "Region us-west-2\n",
      "[]\n"
     ]
    }
   ],
   "source": [
    "import boto3\n",
    "ec2_cli=boto3.client('ec2')\n",
    "regions= [region['RegionName'] for region in ec2_cli.describe_regions()['Regions']]\n",
    "for region in regions:\n",
    "    print(\"Region\",region)\n",
    "    ec2_cli=boto3.client('ec2',region_name=region)\n",
    "    response=ec2_cli.describe_snapshots(OwnerIds=['self'])\n",
    "    '''snapshots=response\n",
    "    #print(response)\n",
    "    snapshots.sort(key=lambda x: x[\"StartTime\"])\n",
    "    # remove snapshots most recent 3\n",
    "    snapshots=snapshots[:-3]\n",
    "    prinnt(snapshots)\n",
    "    '''\n",
    "    snapshots=response['Snapshots']\n",
    "    #print(snapshots)\n",
    "    snapshots.sort(key=lambda x: x[\"StartTime\"])\n",
    "    print(snapshots[:-3])"
   ]
  },
  {
   "cell_type": "code",
   "execution_count": 48,
   "metadata": {
    "scrolled": true
   },
   "outputs": [
    {
     "name": "stdout",
     "output_type": "stream",
     "text": [
      "Region eu-north-1\n",
      "Region ap-south-1\n",
      "Region eu-west-3\n",
      "Region eu-west-2\n",
      "Region eu-west-1\n",
      "Region ap-northeast-2\n",
      "Region ap-northeast-1\n",
      "Region sa-east-1\n",
      "Region ca-central-1\n",
      "Region ap-southeast-1\n",
      "Region ap-southeast-2\n",
      "Region eu-central-1\n",
      "Region us-east-1\n",
      "Deleting the snapshots are:  snap-0ba47cbd325a91d56\n",
      "Deleting the snapshots are:  snap-0912d3854feb7bef4\n",
      "Deleting the snapshots are:  snap-025901c7294f9a0bc\n",
      "Deleting the snapshots are:  snap-041617e47ad0975ab\n",
      "Deleting the snapshots are:  snap-0d9b431392f964ebc\n",
      "Deleting the snapshots are:  snap-0cd941f4a24112b20\n",
      "Region us-east-2\n",
      "Deleting the snapshots are:  snap-094cd5d2ed08cf77c\n",
      "Deleting the snapshots are:  snap-0ed85e73628ed0a8e\n",
      "Deleting the snapshots are:  snap-0742f8b0fbc6a6866\n",
      "Deleting the snapshots are:  snap-03d503bebd20e2b94\n",
      "Deleting the snapshots are:  snap-0932e22dfdca1a7a4\n",
      "Region us-west-1\n",
      "Region us-west-2\n"
     ]
    }
   ],
   "source": [
    "import boto3\n",
    "ec2_cli=boto3.client('ec2')\n",
    "regions= [region['RegionName'] for region in ec2_cli.describe_regions()['Regions']]\n",
    "snap_list=[]\n",
    "for region in regions:\n",
    "    print(\"Region\",region)\n",
    "    ec2_cli=boto3.client('ec2',region_name=region)\n",
    "    response=ec2_cli.describe_snapshots(OwnerIds=['self'])\n",
    "    snapshots=response['Snapshots']\n",
    "    snapshots.sort(key=lambda x: x['StartTime'])\n",
    "    snapshots=snapshots[:-3] # it displays all except the last three \n",
    "    # if we want only last three use [::-3] this will give only last three\n",
    "    for snapshot in snapshots:\n",
    "        id=snapshot['SnapshotId']\n",
    "        print(\"Deleting the snapshots are: \",id)"
   ]
  },
  {
   "cell_type": "code",
   "execution_count": 49,
   "metadata": {},
   "outputs": [
    {
     "name": "stdout",
     "output_type": "stream",
     "text": [
      "Region eu-north-1\n",
      "Region ap-south-1\n",
      "Region eu-west-3\n",
      "Region eu-west-2\n",
      "Region eu-west-1\n",
      "Region ap-northeast-2\n",
      "Region ap-northeast-1\n",
      "Region sa-east-1\n",
      "Region ca-central-1\n",
      "Region ap-southeast-1\n",
      "Region ap-southeast-2\n",
      "Region eu-central-1\n",
      "Region us-east-1\n",
      "Deleting the snapshots are:  snap-0ba47cbd325a91d56\n",
      "Deleting the snapshots are:  snap-0912d3854feb7bef4\n",
      "Deleting the snapshots are:  snap-025901c7294f9a0bc\n",
      "Deleting the snapshots are:  snap-041617e47ad0975ab\n",
      "Deleting the snapshots are:  snap-0d9b431392f964ebc\n",
      "Deleting the snapshots are:  snap-0cd941f4a24112b20\n",
      "Region us-east-2\n",
      "Deleting the snapshots are:  snap-094cd5d2ed08cf77c\n",
      "Deleting the snapshots are:  snap-0ed85e73628ed0a8e\n",
      "Deleting the snapshots are:  snap-0742f8b0fbc6a6866\n",
      "Deleting the snapshots are:  snap-03d503bebd20e2b94\n",
      "Deleting the snapshots are:  snap-0932e22dfdca1a7a4\n",
      "Region us-west-1\n",
      "Region us-west-2\n"
     ]
    }
   ],
   "source": [
    "import boto3\n",
    "ec2_cli=boto3.client('ec2')\n",
    "regions= [region['RegionName'] for region in ec2_cli.describe_regions()['Regions']]\n",
    "snap_list=[]\n",
    "for region in regions:\n",
    "    print(\"Region\",region)\n",
    "    ec2_cli=boto3.client('ec2',region_name=region)\n",
    "    response=ec2_cli.describe_snapshots(OwnerIds=['self'])\n",
    "    snapshots=response['Snapshots']\n",
    "    snapshots.sort(key=lambda x: x['StartTime'])\n",
    "    snapshots=snapshots[:-3] # it displays all except the last three \n",
    "    # if we want only last three use [::-3] this will give only last three\n",
    "    for snapshot in snapshots:\n",
    "        id=snapshot['SnapshotId']\n",
    "        \n",
    "        try:\n",
    "            print(\"Deleting the snapshots are: \",id)\n",
    "            ec2_cli.delete_snapshot(SnapshotId=id)\n",
    "        except Exception as e:\n",
    "            if 'InvalidSnapshot.InUse' in e.message:\n",
    "                print(\"Snapshot {} is in use\".format(id))\n",
    "                continue\n",
    "            "
   ]
  },
  {
   "cell_type": "code",
   "execution_count": 56,
   "metadata": {},
   "outputs": [
    {
     "name": "stdout",
     "output_type": "stream",
     "text": [
      "The current region is eu-north-1\n",
      "The current region is ap-south-1\n",
      "The current region is eu-west-3\n",
      "The current region is eu-west-2\n",
      "The current region is eu-west-1\n",
      "The current region is ap-northeast-2\n",
      "The current region is ap-northeast-1\n",
      "The current region is sa-east-1\n",
      "The current region is ca-central-1\n",
      "The current region is ap-southeast-1\n",
      "The current region is ap-southeast-2\n",
      "The current region is eu-central-1\n",
      "The current region is us-east-1\n",
      "{'Description': 'Created snapshot', 'Encrypted': False, 'OwnerId': '122453661730', 'Progress': '100%', 'SnapshotId': 'snap-093232160efcba706', 'StartTime': datetime.datetime(2020, 10, 24, 14, 52, 28, 405000, tzinfo=tzutc()), 'State': 'completed', 'VolumeId': 'vol-055ac87d224b3cc77', 'VolumeSize': 8, 'Tags': [{'Key': 'Name', 'Value': 'Centos'}]}\n",
      "{'Description': 'Created snapshot', 'Encrypted': False, 'OwnerId': '122453661730', 'Progress': '100%', 'SnapshotId': 'snap-05601573cdcbe4f97', 'StartTime': datetime.datetime(2020, 10, 24, 14, 49, 8, 575000, tzinfo=tzutc()), 'State': 'completed', 'VolumeId': 'vol-055ac87d224b3cc77', 'VolumeSize': 8}\n",
      "{'Description': 'Created snapshot', 'Encrypted': False, 'OwnerId': '122453661730', 'Progress': '100%', 'SnapshotId': 'snap-075e5d1444317c2f3', 'StartTime': datetime.datetime(2020, 10, 24, 14, 49, 43, 189000, tzinfo=tzutc()), 'State': 'completed', 'VolumeId': 'vol-055ac87d224b3cc77', 'VolumeSize': 8}\n",
      "The current region is us-east-2\n",
      "{'Description': 'Created snapshot', 'Encrypted': False, 'OwnerId': '122453661730', 'Progress': '100%', 'SnapshotId': 'snap-013ccd62c39d04e53', 'StartTime': datetime.datetime(2020, 10, 24, 14, 49, 45, 556000, tzinfo=tzutc()), 'State': 'completed', 'VolumeId': 'vol-01a0444bda9e824db', 'VolumeSize': 8}\n",
      "{'Description': 'Created snapshot', 'Encrypted': False, 'OwnerId': '122453661730', 'Progress': '100%', 'SnapshotId': 'snap-05f2ed1e683098904', 'StartTime': datetime.datetime(2020, 10, 24, 14, 49, 11, 125000, tzinfo=tzutc()), 'State': 'completed', 'VolumeId': 'vol-01a0444bda9e824db', 'VolumeSize': 8}\n",
      "{'Description': 'Created snapshot', 'Encrypted': False, 'OwnerId': '122453661730', 'Progress': '100%', 'SnapshotId': 'snap-0cc676d73e16375c0', 'StartTime': datetime.datetime(2020, 10, 24, 14, 52, 32, 967000, tzinfo=tzutc()), 'State': 'completed', 'VolumeId': 'vol-01a0444bda9e824db', 'VolumeSize': 8, 'Tags': [{'Key': 'Name', 'Value': 'Shell_Script'}]}\n",
      "The current region is us-west-1\n",
      "The current region is us-west-2\n"
     ]
    }
   ],
   "source": [
    "import boto3\n",
    "ec2_cli=boto3.client('ec2')\n",
    "regions=[region['RegionName'] for region in ec2_cli.describe_regions()['Regions']]\n",
    "for region in regions:\n",
    "    print(\"The current region is {}\".format(region))\n",
    "    ec2_cli=boto3.client('ec2',region_name=region)\n",
    "    response=ec2_cli.describe_snapshots(OwnerIds=['self'])['Snapshots']\n",
    "    for each_snap in response:\n",
    "        print(each_snap)"
   ]
  },
  {
   "cell_type": "code",
   "execution_count": 58,
   "metadata": {},
   "outputs": [],
   "source": [
    "import boto3\n",
    "ec2_cli=boto3.client('ec2')\n",
    "regions=[region['RegionName'] for region in ec2_cli.describe_regions()['Regions']]\n",
    "for region in regions:\n",
    "    #print(\"The current region is {}\".format(region))\n",
    "    ec2_cli=boto3.client('ec2',region_name=region)\n",
    "    response=ec2_cli.describe_snapshots(OwnerIds=['self'])['Snapshots']\n",
    "    for each_snap in response:\n",
    "        id=each_snap['SnapshotId']\n",
    "        ec2_cli.delete_snapshot(SnapshotId=id)\n",
    "        \n",
    "                    "
   ]
  },
  {
   "cell_type": "code",
   "execution_count": null,
   "metadata": {},
   "outputs": [],
   "source": []
  }
 ],
 "metadata": {
  "kernelspec": {
   "display_name": "Python 3",
   "language": "python",
   "name": "python3"
  },
  "language_info": {
   "codemirror_mode": {
    "name": "ipython",
    "version": 3
   },
   "file_extension": ".py",
   "mimetype": "text/x-python",
   "name": "python",
   "nbconvert_exporter": "python",
   "pygments_lexer": "ipython3",
   "version": "3.8.0"
  }
 },
 "nbformat": 4,
 "nbformat_minor": 4
}
