{
 "cells": [
  {
   "cell_type": "markdown",
   "metadata": {},
   "source": [
    "# Usage of meta Object"
   ]
  },
  {
   "cell_type": "markdown",
   "metadata": {},
   "source": [
    "## Useful to enter into client object from resource\n",
    "## we have each and every operation with client\n",
    "## but only some operations can be done with resource object\n",
    "# Example with list avaiable ec2 regions\n",
    "## __print(dir(ec2_re))__ using this we get all the info of the resource object\n",
    "## now we are checking for meta\n",
    "## __print(dir(ec2_re.meta))__ using this we get all the info of the meta object\n",
    "## __print(dir(ec2_re.meta.client))__using this we get all the info that we can perform with\n",
    "## client object \n",
    "## __ec2_re.meta.client__ we started with resource now we gone to client object\n",
    "\n"
   ]
  },
  {
   "cell_type": "code",
   "execution_count": 9,
   "metadata": {},
   "outputs": [
    {
     "name": "stdout",
     "output_type": "stream",
     "text": [
      "eu-north-1\n",
      "ap-south-1\n",
      "eu-west-3\n",
      "eu-west-2\n",
      "eu-west-1\n",
      "ap-northeast-2\n",
      "ap-northeast-1\n",
      "sa-east-1\n",
      "ca-central-1\n",
      "ap-southeast-1\n",
      "ap-southeast-2\n",
      "eu-central-1\n",
      "us-east-1\n",
      "us-east-2\n",
      "us-west-1\n",
      "us-west-2\n"
     ]
    }
   ],
   "source": [
    "import boto3\n",
    "ec2_re=boto3.resource('ec2')\n",
    "#print(dir(ec2_re))\n",
    "#print(dir(ec2_re.meta))\n",
    "#print(dir(ec2_re.meta.client))\n",
    "#print(ec2_re.meta.client.describe_regions()['Regions'])\n",
    "for each in ec2_re.meta.client.describe_regions()['Regions']:\n",
    "    print(each['RegionName'])"
   ]
  },
  {
   "cell_type": "code",
   "execution_count": 1,
   "metadata": {},
   "outputs": [
    {
     "name": "stdout",
     "output_type": "stream",
     "text": [
      "Region:  eu-north-1\n",
      "Region:  ap-south-1\n",
      "Region:  eu-west-3\n",
      "Region:  eu-west-2\n",
      "Region:  eu-west-1\n",
      "Region:  ap-northeast-2\n",
      "Region:  ap-northeast-1\n",
      "Region:  sa-east-1\n",
      "Region:  ca-central-1\n",
      "Region:  ap-southeast-1\n",
      "Region:  ap-southeast-2\n",
      "Region:  eu-central-1\n",
      "Region:  us-east-1\n",
      "Region:  us-east-2\n",
      "Region:  us-west-1\n",
      "Region:  us-west-2\n"
     ]
    }
   ],
   "source": [
    "import boto3\n",
    "ec2_cli=boto3.client('ec2')\n",
    "regions=[region['RegionName']for region in ec2_cli.describe_regions()['Regions']]\n",
    "for region in regions:\n",
    "    ec2_re=boto3.resource('ec2',region_name=region)\n",
    "    print(\"Region: \",region)\n",
    "    instances=ec2_re.instances.filter(\n",
    "                Filters=[\n",
    "                    {\n",
    "                        'Name':'instance-state-name',\n",
    "                        'Values':['stopped']\n",
    "                    }\n",
    "                ]\n",
    "    )\n",
    "    "
   ]
  },
  {
   "cell_type": "code",
   "execution_count": 6,
   "metadata": {},
   "outputs": [
    {
     "name": "stdout",
     "output_type": "stream",
     "text": [
      "us-east-2\n",
      "us-east-2\n"
     ]
    }
   ],
   "source": [
    "import boto3\n",
    "ec2_cli=boto3.client('ec2')\n",
    "regions=[region['RegionName']for region in ec2_cli.describe_regions()['Regions']]\n",
    "for region in regions:\n",
    "    ec2_re=boto3.resource('ec2',region)\n",
    "    for each in ec2_re.instances.all():\n",
    "        print(region)"
   ]
  },
  {
   "cell_type": "code",
   "execution_count": null,
   "metadata": {},
   "outputs": [],
   "source": []
  }
 ],
 "metadata": {
  "kernelspec": {
   "display_name": "Python 3",
   "language": "python",
   "name": "python3"
  },
  "language_info": {
   "codemirror_mode": {
    "name": "ipython",
    "version": 3
   },
   "file_extension": ".py",
   "mimetype": "text/x-python",
   "name": "python",
   "nbconvert_exporter": "python",
   "pygments_lexer": "ipython3",
   "version": "3.8.0"
  }
 },
 "nbformat": 4,
 "nbformat_minor": 4
}
