{
 "cells": [
  {
   "cell_type": "markdown",
   "metadata": {},
   "source": [
    "### Start all instances at a time"
   ]
  },
  {
   "cell_type": "code",
   "execution_count": 3,
   "metadata": {},
   "outputs": [
    {
     "name": "stdout",
     "output_type": "stream",
     "text": [
      "['i-08c45218b24fc34d9', 'i-09cadc9593f35e6b5']\n"
     ]
    },
    {
     "data": {
      "text/plain": [
       "\"\\n# here we have give some time to start the instance \\nwaiter=ec2_cli.get_waiter('instance_running')\\nwaiter.wait(InstanceIds=[])\\n\""
      ]
     },
     "execution_count": 3,
     "metadata": {},
     "output_type": "execute_result"
    }
   ],
   "source": [
    "import boto3\n",
    "ec2_re=boto3.resource('ec2')\n",
    "ec2_cli=boto3.client('ec2')\n",
    "all_req_ins_id=[]\n",
    "for each in ec2_re.instances.all():\n",
    "    all_req_ins_id.append(each.id)\n",
    "print(all_req_ins_id)\n",
    "# here we have give some time to start the instance \n",
    "waiter=ec2_cli.get_waiter('instance_running')\n",
    "ec2_re.instances.start()\n",
    "waiter.wait(InstanceIds=all_req_ins_id)\n",
    "print(\"Your instances are up and running\")\n"
   ]
  },
  {
   "cell_type": "code",
   "execution_count": 15,
   "metadata": {},
   "outputs": [
    {
     "name": "stdout",
     "output_type": "stream",
     "text": [
      "['__class__', '__delattr__', '__dict__', '__dir__', '__doc__', '__eq__', '__format__', '__ge__', '__getattribute__', '__gt__', '__hash__', '__init__', '__init_subclass__', '__le__', '__lt__', '__module__', '__ne__', '__new__', '__reduce__', '__reduce_ex__', '__repr__', '__setattr__', '__sizeof__', '__str__', '__subclasshook__', '__weakref__', '_id', 'ami_launch_index', 'architecture', 'attach_classic_link_vpc', 'attach_volume', 'block_device_mappings', 'capacity_reservation_id', 'capacity_reservation_specification', 'classic_address', 'client_token', 'console_output', 'cpu_options', 'create_image', 'create_tags', 'delete_tags', 'describe_attribute', 'detach_classic_link_vpc', 'detach_volume', 'ebs_optimized', 'elastic_gpu_associations', 'elastic_inference_accelerator_associations', 'ena_support', 'get_available_subresources', 'hibernation_options', 'hypervisor', 'iam_instance_profile', 'id', 'image', 'image_id', 'instance_id', 'instance_lifecycle', 'instance_type', 'kernel_id', 'key_name', 'key_pair', 'launch_time', 'licenses', 'load', 'meta', 'metadata_options', 'modify_attribute', 'monitor', 'monitoring', 'network_interfaces', 'network_interfaces_attribute', 'outpost_arn', 'password_data', 'placement', 'placement_group', 'platform', 'private_dns_name', 'private_ip_address', 'product_codes', 'public_dns_name', 'public_ip_address', 'ramdisk_id', 'reboot', 'reload', 'report_status', 'reset_attribute', 'reset_kernel', 'reset_ramdisk', 'reset_source_dest_check', 'root_device_name', 'root_device_type', 'security_groups', 'source_dest_check', 'spot_instance_request_id', 'sriov_net_support', 'start', 'state', 'state_reason', 'state_transition_reason', 'stop', 'subnet', 'subnet_id', 'tags', 'terminate', 'unmonitor', 'virtualization_type', 'volumes', 'vpc', 'vpc_addresses', 'vpc_id', 'wait_until_exists', 'wait_until_running', 'wait_until_stopped', 'wait_until_terminated']\n",
      "['__class__', '__delattr__', '__dict__', '__dir__', '__doc__', '__eq__', '__format__', '__ge__', '__getattribute__', '__gt__', '__hash__', '__init__', '__init_subclass__', '__le__', '__lt__', '__module__', '__ne__', '__new__', '__reduce__', '__reduce_ex__', '__repr__', '__setattr__', '__sizeof__', '__str__', '__subclasshook__', '__weakref__', '_id', 'ami_launch_index', 'architecture', 'attach_classic_link_vpc', 'attach_volume', 'block_device_mappings', 'capacity_reservation_id', 'capacity_reservation_specification', 'classic_address', 'client_token', 'console_output', 'cpu_options', 'create_image', 'create_tags', 'delete_tags', 'describe_attribute', 'detach_classic_link_vpc', 'detach_volume', 'ebs_optimized', 'elastic_gpu_associations', 'elastic_inference_accelerator_associations', 'ena_support', 'get_available_subresources', 'hibernation_options', 'hypervisor', 'iam_instance_profile', 'id', 'image', 'image_id', 'instance_id', 'instance_lifecycle', 'instance_type', 'kernel_id', 'key_name', 'key_pair', 'launch_time', 'licenses', 'load', 'meta', 'metadata_options', 'modify_attribute', 'monitor', 'monitoring', 'network_interfaces', 'network_interfaces_attribute', 'outpost_arn', 'password_data', 'placement', 'placement_group', 'platform', 'private_dns_name', 'private_ip_address', 'product_codes', 'public_dns_name', 'public_ip_address', 'ramdisk_id', 'reboot', 'reload', 'report_status', 'reset_attribute', 'reset_kernel', 'reset_ramdisk', 'reset_source_dest_check', 'root_device_name', 'root_device_type', 'security_groups', 'source_dest_check', 'spot_instance_request_id', 'sriov_net_support', 'start', 'state', 'state_reason', 'state_transition_reason', 'stop', 'subnet', 'subnet_id', 'tags', 'terminate', 'unmonitor', 'virtualization_type', 'volumes', 'vpc', 'vpc_addresses', 'vpc_id', 'wait_until_exists', 'wait_until_running', 'wait_until_stopped', 'wait_until_terminated']\n"
     ]
    }
   ],
   "source": [
    "import boto3\n",
    "ec2_re=boto3.resource('ec2')\n",
    "for each in ec2_re.instances.all():\n",
    "    #print(\"Instance id:{}\\nState:{}\\npublic_ip:{}\\ntags:{}\".format(each.instance_id,each.state['Name'],each.public_ip_address,each.tags))\n",
    "    print(dir(each))"
   ]
  },
  {
   "cell_type": "code",
   "execution_count": 24,
   "metadata": {},
   "outputs": [
    {
     "name": "stdout",
     "output_type": "stream",
     "text": [
      "DevOp aasdfas\n",
      "Name Prod\n",
      "Name non-prod\n"
     ]
    }
   ],
   "source": [
    "import boto3\n",
    "ec2_re=boto3.resource('ec2')\n",
    "for each in ec2_re.instances.all():\n",
    "    for each_tag in each.tags:\n",
    "        print(each_tag['Key'],each_tag['Value'])"
   ]
  },
  {
   "cell_type": "code",
   "execution_count": 28,
   "metadata": {},
   "outputs": [
    {
     "name": "stdout",
     "output_type": "stream",
     "text": [
      "Instance id:i-08c45218b24fc34d9\n",
      "State:stopped\n",
      "public_ip:None\n",
      "tags:aasdfas\n",
      "----------------------------------------\n",
      "Instance id:i-08c45218b24fc34d9\n",
      "State:stopped\n",
      "public_ip:None\n",
      "tags:Prod\n",
      "----------------------------------------\n",
      "Instance id:i-09cadc9593f35e6b5\n",
      "State:stopped\n",
      "public_ip:None\n",
      "tags:non-prod\n",
      "----------------------------------------\n"
     ]
    }
   ],
   "source": [
    "import boto3\n",
    "ec2_re=boto3.resource('ec2')\n",
    "for each in ec2_re.instances.all():\n",
    "    for each_tag in each.tags:\n",
    "        #print(each_tag['Key'],each_tag['Value'])\n",
    "        print(\"Instance id:{}\\nState:{}\\npublic_ip:{}\\ntags:{}\".format(each.instance_id,\n",
    "                                                                       each.state['Name'],\n",
    "                                                                       each.public_ip_address,\n",
    "                                                                       each_tag['Value']))\n",
    "        print(\"----------------------------------------\")"
   ]
  },
  {
   "cell_type": "code",
   "execution_count": null,
   "metadata": {},
   "outputs": [],
   "source": []
  }
 ],
 "metadata": {
  "kernelspec": {
   "display_name": "Python 3",
   "language": "python",
   "name": "python3"
  },
  "language_info": {
   "codemirror_mode": {
    "name": "ipython",
    "version": 3
   },
   "file_extension": ".py",
   "mimetype": "text/x-python",
   "name": "python",
   "nbconvert_exporter": "python",
   "pygments_lexer": "ipython3",
   "version": "3.8.0"
  }
 },
 "nbformat": 4,
 "nbformat_minor": 4
}
