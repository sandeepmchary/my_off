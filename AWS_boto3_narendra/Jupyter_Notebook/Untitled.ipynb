{
 "cells": [
  {
   "cell_type": "code",
   "execution_count": 1,
   "metadata": {},
   "outputs": [
    {
     "name": "stdout",
     "output_type": "stream",
     "text": [
      "{'Users': [{'Path': '/', 'UserName': 'admin', 'UserId': 'AIDARZAWOTARKEJRJHUTM', 'Arn': 'arn:aws:iam::122453661730:user/admin', 'CreateDate': datetime.datetime(2020, 7, 4, 15, 27, 15, tzinfo=tzutc())}, {'Path': '/', 'UserName': 'lenovokeypad', 'UserId': 'AIDARZAWOTARAJI4FGBOJ', 'Arn': 'arn:aws:iam::122453661730:user/lenovokeypad', 'CreateDate': datetime.datetime(2020, 10, 10, 9, 37, 6, tzinfo=tzutc())}, {'Path': '/', 'UserName': 'valaxy', 'UserId': 'AIDARZAWOTARNATKSQWG3', 'Arn': 'arn:aws:iam::122453661730:user/valaxy', 'CreateDate': datetime.datetime(2020, 7, 9, 15, 13, 30, tzinfo=tzutc())}, {'Path': '/', 'UserName': 'valaxy1', 'UserId': 'AIDARZAWOTARAEUOOG4SB', 'Arn': 'arn:aws:iam::122453661730:user/valaxy1', 'CreateDate': datetime.datetime(2020, 7, 9, 15, 14, 28, tzinfo=tzutc())}], 'IsTruncated': False, 'ResponseMetadata': {'RequestId': 'bf9387ac-bc7b-4ef8-bf3a-e4045ec2770d', 'HTTPStatusCode': 200, 'HTTPHeaders': {'x-amzn-requestid': 'bf9387ac-bc7b-4ef8-bf3a-e4045ec2770d', 'content-type': 'text/xml', 'content-length': '1305', 'date': 'Sat, 10 Oct 2020 16:41:26 GMT'}, 'RetryAttempts': 0}}\n"
     ]
    }
   ],
   "source": [
    "import boto3\n",
    "iam=boto3.client('iam')\n",
    "resp=iam.list_users()\n",
    "print(resp)"
   ]
  },
  {
   "cell_type": "code",
   "execution_count": 3,
   "metadata": {},
   "outputs": [
    {
     "name": "stdout",
     "output_type": "stream",
     "text": [
      "admin\n",
      "lenovokeypad\n",
      "valaxy\n",
      "valaxy1\n"
     ]
    }
   ],
   "source": [
    "import boto3\n",
    "iam=boto3.client('iam')\n",
    "resp=iam.list_users()\n",
    "for each_user in resp['Users']:\n",
    "    print(each_user['UserName'])"
   ]
  },
  {
   "cell_type": "code",
   "execution_count": 3,
   "metadata": {},
   "outputs": [
    {
     "name": "stdout",
     "output_type": "stream",
     "text": [
      "{'UserId': 'AIDARZAWOTARAJI4FGBOJ', 'Account': '122453661730', 'Arn': 'arn:aws:iam::122453661730:user/lenovokeypad', 'ResponseMetadata': {'RequestId': '3541a7dc-b33a-4cb3-997b-9b86f0e620cb', 'HTTPStatusCode': 200, 'HTTPHeaders': {'x-amzn-requestid': '3541a7dc-b33a-4cb3-997b-9b86f0e620cb', 'content-type': 'text/xml', 'content-length': '409', 'date': 'Sat, 10 Oct 2020 16:57:38 GMT'}, 'RetryAttempts': 0}}\n"
     ]
    }
   ],
   "source": [
    "import boto3\n",
    "aws_mgt=boto3.session.Session(profile_name='len')\n",
    "sts=aws_mgt.client('sts')\n",
    "response=sts.get_caller_identity()\n",
    "print(response)"
   ]
  },
  {
   "cell_type": "code",
   "execution_count": 4,
   "metadata": {},
   "outputs": [
    {
     "name": "stdout",
     "output_type": "stream",
     "text": [
      "{'UserId': '122453661730', 'Account': '122453661730', 'Arn': 'arn:aws:iam::122453661730:root', 'ResponseMetadata': {'RequestId': '06364b20-7ae8-47c0-a959-32f85718b257', 'HTTPStatusCode': 200, 'HTTPHeaders': {'x-amzn-requestid': '06364b20-7ae8-47c0-a959-32f85718b257', 'content-type': 'text/xml', 'content-length': '387', 'date': 'Sat, 10 Oct 2020 16:59:01 GMT'}, 'RetryAttempts': 0}}\n"
     ]
    }
   ],
   "source": [
    "import boto3\n",
    "sts=boto3.client('sts')\n",
    "response=sts.get_caller_identity()\n",
    "print(response)"
   ]
  },
  {
   "cell_type": "markdown",
   "metadata": {},
   "source": [
    "# 14_4) Getting the aws id"
   ]
  },
  {
   "cell_type": "code",
   "execution_count": 5,
   "metadata": {},
   "outputs": [
    {
     "name": "stdout",
     "output_type": "stream",
     "text": [
      "122453661730\n"
     ]
    }
   ],
   "source": [
    "import boto3\n",
    "sts=boto3.client('sts')\n",
    "resp=sts.get_caller_identity()\n",
    "print(resp['Account'])\n",
    "\n"
   ]
  },
  {
   "cell_type": "code",
   "execution_count": null,
   "metadata": {},
   "outputs": [],
   "source": []
  }
 ],
 "metadata": {
  "kernelspec": {
   "display_name": "Python 3",
   "language": "python",
   "name": "python3"
  },
  "language_info": {
   "codemirror_mode": {
    "name": "ipython",
    "version": 3
   },
   "file_extension": ".py",
   "mimetype": "text/x-python",
   "name": "python",
   "nbconvert_exporter": "python",
   "pygments_lexer": "ipython3",
   "version": "3.8.0"
  }
 },
 "nbformat": 4,
 "nbformat_minor": 4
}
