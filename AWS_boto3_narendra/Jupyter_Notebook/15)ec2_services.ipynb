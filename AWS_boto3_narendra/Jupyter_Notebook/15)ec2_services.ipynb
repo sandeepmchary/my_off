{
 "cells": [
  {
   "cell_type": "code",
   "execution_count": 12,
   "metadata": {},
   "outputs": [
    {
     "name": "stdout",
     "output_type": "stream",
     "text": [
      "The Image id is :ami-01e36b7901e884a10\n",
      "The Instance id is :i-08c45218b24fc34d9\n",
      "The instance Launch time is:2020-28-10/06/20\n",
      "-----------------\n",
      "The Image id is :ami-01e36b7901e884a10\n",
      "The Instance id is :i-09cadc9593f35e6b5\n",
      "The instance Launch time is:2020-16-09/06/20\n",
      "-----------------\n"
     ]
    }
   ],
   "source": [
    "import boto3\n",
    "from pprint import pprint\n",
    "ec2_cli=boto3.client('ec2')\n",
    "resp=ec2_cli.describe_instances()['Reservations']\n",
    "#pprint(resp)\n",
    "# response is a list so take for loop\n",
    "for each_item in resp:\n",
    "    for each_ins in each_item['Instances']:\n",
    "        print(\"The Image id is :{}\\nThe Instance id is :{}\\nThe instance Launch time is:{}\".format(each_ins['ImageId'],\n",
    "                                                                                                    each_ins['InstanceId'],\n",
    "                                                                                                   each_ins['LaunchTime'].strftime(\"%Y-%M-%D\")))\n",
    "        print(\"-----------------\")"
   ]
  },
  {
   "cell_type": "code",
   "execution_count": null,
   "metadata": {},
   "outputs": [],
   "source": [
    "import boto3\n",
    "from pprint import pprint\n",
    "import sys\n",
    "ec2_cli=boto3.client('ec2')\n",
    "ec2_re=boto3.resource('ec2')\n",
    "response=ec2_cli.describe_instances()['Reservations']\n",
    "for each in response:\n",
    "    for each_ins in each['Instances']:\n",
    "        print(\"====================================\")\n",
    "        print(\"The Instance Id is:{}\\nThe Instance State is:{}\".format(each_ins['InstanceId'],each_ins['State']['Name']))\n",
    "while True:\n",
    "    print(\"The Script performs the following Scripts\")\n",
    "    print(\"\"\"\n",
    "            1. Start\n",
    "            2. Stop\n",
    "            3. Terminate\n",
    "            4. Exit\n",
    "            \"\"\")\n",
    "    opt=int(input(\"Enter Your choice from 1-4 only\"))\n",
    "    if opt==1:\n",
    "        ins_id=input(\"Enter the Ec2 instances id:\")\n",
    "        my_req_action=ec2_re.Instance(ins_id)\n",
    "        my_req_action.start()\n",
    "        print(\"Starting the Instance...\")\n",
    "        \n",
    "    if opt==2:\n",
    "        ins_id=input(\"Enter the Ec2 Instances id:\")\n",
    "        my_rer_action=ec2_re.Instance(ins_id)\n",
    "        my_req_action.stop()\n",
    "        print(\"Stopping the Instance...\")\n",
    "        \n",
    "        \n",
    "        "
   ]
  },
  {
   "cell_type": "code",
   "execution_count": null,
   "metadata": {},
   "outputs": [],
   "source": []
  }
 ],
 "metadata": {
  "kernelspec": {
   "display_name": "Python 3",
   "language": "python",
   "name": "python3"
  },
  "language_info": {
   "codemirror_mode": {
    "name": "ipython",
    "version": 3
   },
   "file_extension": ".py",
   "mimetype": "text/x-python",
   "name": "python",
   "nbconvert_exporter": "python",
   "pygments_lexer": "ipython3",
   "version": "3.8.0"
  }
 },
 "nbformat": 4,
 "nbformat_minor": 4
}
