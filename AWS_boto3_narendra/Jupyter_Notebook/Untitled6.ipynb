{
 "cells": [
  {
   "cell_type": "code",
   "execution_count": 15,
   "metadata": {},
   "outputs": [
    {
     "name": "stdout",
     "output_type": "stream",
     "text": [
      "q7vm$(g&\n"
     ]
    }
   ],
   "source": [
    "from random import choice\n",
    "len_pass=8\n",
    "valid_chars=\"abcdefghijklmnopqrstuvwxyz1234567890!@#$%^&*()?\"\n",
    "#print(choice(valid_chars))\n",
    "# I need 8 chars in my password\n",
    "passwd=[]\n",
    "for each_char in range(len_pass):\n",
    "    #print(choice(valid_chars))\n",
    "    passwd.append(choice(valid_chars))\n",
    "print(\"\".join(passwd))"
   ]
  },
  {
   "cell_type": "code",
   "execution_count": 18,
   "metadata": {},
   "outputs": [
    {
     "ename": "SyntaxError",
     "evalue": "invalid syntax (<ipython-input-18-dea92ba54b46>, line 5)",
     "output_type": "error",
     "traceback": [
      "\u001b[1;36m  File \u001b[1;32m\"<ipython-input-18-dea92ba54b46>\"\u001b[1;36m, line \u001b[1;32m5\u001b[0m\n\u001b[1;33m    random_pass=\"\".join(choice(valid_chars)) for each_char in range(len_pass)\u001b[0m\n\u001b[1;37m                                             ^\u001b[0m\n\u001b[1;31mSyntaxError\u001b[0m\u001b[1;31m:\u001b[0m invalid syntax\n"
     ]
    }
   ],
   "source": [
    "from random import choice\n",
    "len_pass=8\n",
    "valid_chars=\"abcdefghijklmnopqrstuvwxyz1234567890!@#$%^&*()?\"\n",
    "passwd=[]\n",
    "random_pass=\"\".join(choice(valid_chars)) for each_char in range(len_pass)\n",
    "print(random_pass)"
   ]
  },
  {
   "cell_type": "code",
   "execution_count": null,
   "metadata": {},
   "outputs": [],
   "source": []
  }
 ],
 "metadata": {
  "kernelspec": {
   "display_name": "Python 3",
   "language": "python",
   "name": "python3"
  },
  "language_info": {
   "codemirror_mode": {
    "name": "ipython",
    "version": 3
   },
   "file_extension": ".py",
   "mimetype": "text/x-python",
   "name": "python",
   "nbconvert_exporter": "python",
   "pygments_lexer": "ipython3",
   "version": "3.8.0"
  }
 },
 "nbformat": 4,
 "nbformat_minor": 4
}
