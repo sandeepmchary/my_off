{
 "cells": [
  {
   "cell_type": "code",
   "execution_count": 1,
   "metadata": {},
   "outputs": [],
   "source": [
    "from collections import defaultdict\n",
    "\n",
    "import boto3\n",
    "\n",
    "\"\"\"\n",
    "A tool for retrieving basic information from the running EC2 instances.\n",
    "\"\"\"\n",
    "\n",
    "# Connect to EC2\n",
    "ec2 = boto3.resource('ec2')\n",
    "\n",
    "# Get information for all running instances\n",
    "running_instances = ec2.instances.filter(Filters=[{\n",
    "    'Name': 'instance-state-name',\n",
    "    'Values': ['running']}])\n",
    "\n",
    "ec2info = defaultdict()\n",
    "for instance in running_instances:\n",
    "    for tag in instance.tags:\n",
    "        if 'Name'in tag['Key']:\n",
    "            name = tag['Value']\n",
    "    # Add instance info to a dictionary         \n",
    "    ec2info[instance.id] = {\n",
    "        'Name': name,\n",
    "        'Type': instance.instance_type,\n",
    "        'State': instance.state['Name'],\n",
    "        'Private IP': instance.private_ip_address,\n",
    "        'Public IP': instance.public_ip_address,\n",
    "        'Launch Time': instance.launch_time\n",
    "        }\n",
    "\n",
    "attributes = ['Name', 'Type', 'State', 'Private IP', 'Public IP', 'Launch Time']\n",
    "for instance_id, instance in ec2info.items():\n",
    "    for key in attributes:\n",
    "        print(\"{0}: {1}\".format(key, instance[key]))\n",
    "    print(\"------\")"
   ]
  },
  {
   "cell_type": "code",
   "execution_count": null,
   "metadata": {},
   "outputs": [],
   "source": []
  },
  {
   "cell_type": "code",
   "execution_count": null,
   "metadata": {},
   "outputs": [],
   "source": []
  }
 ],
 "metadata": {
  "kernelspec": {
   "display_name": "Python 3",
   "language": "python",
   "name": "python3"
  },
  "language_info": {
   "codemirror_mode": {
    "name": "ipython",
    "version": 3
   },
   "file_extension": ".py",
   "mimetype": "text/x-python",
   "name": "python",
   "nbconvert_exporter": "python",
   "pygments_lexer": "ipython3",
   "version": "3.8.0"
  }
 },
 "nbformat": 4,
 "nbformat_minor": 4
}
