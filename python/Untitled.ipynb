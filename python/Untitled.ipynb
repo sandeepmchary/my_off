{
 "cells": [
  {
   "cell_type": "code",
   "execution_count": 1,
   "source": [
    "import boto3\r\n",
    "ec2_cli = boto3.client('ec2')\r\n",
    "print(ec2_cli.describe_regions()['Regions'])"
   ],
   "outputs": [
    {
     "output_type": "stream",
     "name": "stdout",
     "text": [
      "[{'Endpoint': 'ec2.eu-north-1.amazonaws.com', 'RegionName': 'eu-north-1', 'OptInStatus': 'opt-in-not-required'}, {'Endpoint': 'ec2.ap-south-1.amazonaws.com', 'RegionName': 'ap-south-1', 'OptInStatus': 'opt-in-not-required'}, {'Endpoint': 'ec2.eu-west-3.amazonaws.com', 'RegionName': 'eu-west-3', 'OptInStatus': 'opt-in-not-required'}, {'Endpoint': 'ec2.eu-west-2.amazonaws.com', 'RegionName': 'eu-west-2', 'OptInStatus': 'opt-in-not-required'}, {'Endpoint': 'ec2.eu-west-1.amazonaws.com', 'RegionName': 'eu-west-1', 'OptInStatus': 'opt-in-not-required'}, {'Endpoint': 'ec2.ap-northeast-3.amazonaws.com', 'RegionName': 'ap-northeast-3', 'OptInStatus': 'opt-in-not-required'}, {'Endpoint': 'ec2.ap-northeast-2.amazonaws.com', 'RegionName': 'ap-northeast-2', 'OptInStatus': 'opt-in-not-required'}, {'Endpoint': 'ec2.ap-northeast-1.amazonaws.com', 'RegionName': 'ap-northeast-1', 'OptInStatus': 'opt-in-not-required'}, {'Endpoint': 'ec2.sa-east-1.amazonaws.com', 'RegionName': 'sa-east-1', 'OptInStatus': 'opt-in-not-required'}, {'Endpoint': 'ec2.ca-central-1.amazonaws.com', 'RegionName': 'ca-central-1', 'OptInStatus': 'opt-in-not-required'}, {'Endpoint': 'ec2.ap-southeast-1.amazonaws.com', 'RegionName': 'ap-southeast-1', 'OptInStatus': 'opt-in-not-required'}, {'Endpoint': 'ec2.ap-southeast-2.amazonaws.com', 'RegionName': 'ap-southeast-2', 'OptInStatus': 'opt-in-not-required'}, {'Endpoint': 'ec2.eu-central-1.amazonaws.com', 'RegionName': 'eu-central-1', 'OptInStatus': 'opt-in-not-required'}, {'Endpoint': 'ec2.us-east-1.amazonaws.com', 'RegionName': 'us-east-1', 'OptInStatus': 'opt-in-not-required'}, {'Endpoint': 'ec2.us-east-2.amazonaws.com', 'RegionName': 'us-east-2', 'OptInStatus': 'opt-in-not-required'}, {'Endpoint': 'ec2.us-west-1.amazonaws.com', 'RegionName': 'us-west-1', 'OptInStatus': 'opt-in-not-required'}, {'Endpoint': 'ec2.us-west-2.amazonaws.com', 'RegionName': 'us-west-2', 'OptInStatus': 'opt-in-not-required'}]\n"
     ]
    }
   ],
   "metadata": {}
  },
  {
   "cell_type": "code",
   "execution_count": 2,
   "source": [
    "import boto3\r\n",
    "ec2_cli = boto3.client('ec2')\r\n",
    "for each_reg in ec2_cli.describe_regions()['Regions']:\r\n",
    "    print(each_reg)"
   ],
   "outputs": [
    {
     "output_type": "stream",
     "name": "stdout",
     "text": [
      "{'Endpoint': 'ec2.eu-north-1.amazonaws.com', 'RegionName': 'eu-north-1', 'OptInStatus': 'opt-in-not-required'}\n",
      "{'Endpoint': 'ec2.ap-south-1.amazonaws.com', 'RegionName': 'ap-south-1', 'OptInStatus': 'opt-in-not-required'}\n",
      "{'Endpoint': 'ec2.eu-west-3.amazonaws.com', 'RegionName': 'eu-west-3', 'OptInStatus': 'opt-in-not-required'}\n",
      "{'Endpoint': 'ec2.eu-west-2.amazonaws.com', 'RegionName': 'eu-west-2', 'OptInStatus': 'opt-in-not-required'}\n",
      "{'Endpoint': 'ec2.eu-west-1.amazonaws.com', 'RegionName': 'eu-west-1', 'OptInStatus': 'opt-in-not-required'}\n",
      "{'Endpoint': 'ec2.ap-northeast-3.amazonaws.com', 'RegionName': 'ap-northeast-3', 'OptInStatus': 'opt-in-not-required'}\n",
      "{'Endpoint': 'ec2.ap-northeast-2.amazonaws.com', 'RegionName': 'ap-northeast-2', 'OptInStatus': 'opt-in-not-required'}\n",
      "{'Endpoint': 'ec2.ap-northeast-1.amazonaws.com', 'RegionName': 'ap-northeast-1', 'OptInStatus': 'opt-in-not-required'}\n",
      "{'Endpoint': 'ec2.sa-east-1.amazonaws.com', 'RegionName': 'sa-east-1', 'OptInStatus': 'opt-in-not-required'}\n",
      "{'Endpoint': 'ec2.ca-central-1.amazonaws.com', 'RegionName': 'ca-central-1', 'OptInStatus': 'opt-in-not-required'}\n",
      "{'Endpoint': 'ec2.ap-southeast-1.amazonaws.com', 'RegionName': 'ap-southeast-1', 'OptInStatus': 'opt-in-not-required'}\n",
      "{'Endpoint': 'ec2.ap-southeast-2.amazonaws.com', 'RegionName': 'ap-southeast-2', 'OptInStatus': 'opt-in-not-required'}\n",
      "{'Endpoint': 'ec2.eu-central-1.amazonaws.com', 'RegionName': 'eu-central-1', 'OptInStatus': 'opt-in-not-required'}\n",
      "{'Endpoint': 'ec2.us-east-1.amazonaws.com', 'RegionName': 'us-east-1', 'OptInStatus': 'opt-in-not-required'}\n",
      "{'Endpoint': 'ec2.us-east-2.amazonaws.com', 'RegionName': 'us-east-2', 'OptInStatus': 'opt-in-not-required'}\n",
      "{'Endpoint': 'ec2.us-west-1.amazonaws.com', 'RegionName': 'us-west-1', 'OptInStatus': 'opt-in-not-required'}\n",
      "{'Endpoint': 'ec2.us-west-2.amazonaws.com', 'RegionName': 'us-west-2', 'OptInStatus': 'opt-in-not-required'}\n"
     ]
    }
   ],
   "metadata": {}
  },
  {
   "cell_type": "code",
   "execution_count": 3,
   "source": [
    "import boto3\r\n",
    "ec2_cli = boto3.client('ec2')\r\n",
    "for each_reg in ec2_cli.describe_regions()['Regions']:\r\n",
    "    print(each_reg['RegionName'])"
   ],
   "outputs": [
    {
     "output_type": "stream",
     "name": "stdout",
     "text": [
      "eu-north-1\n",
      "ap-south-1\n",
      "eu-west-3\n",
      "eu-west-2\n",
      "eu-west-1\n",
      "ap-northeast-3\n",
      "ap-northeast-2\n",
      "ap-northeast-1\n",
      "sa-east-1\n",
      "ca-central-1\n",
      "ap-southeast-1\n",
      "ap-southeast-2\n",
      "eu-central-1\n",
      "us-east-1\n",
      "us-east-2\n",
      "us-west-1\n",
      "us-west-2\n"
     ]
    }
   ],
   "metadata": {}
  },
  {
   "cell_type": "code",
   "execution_count": 4,
   "source": [
    "import boto3\r\n",
    "ec2_cli = boto3.client('ec2')\r\n",
    "all_regions = []\r\n",
    "for each_reg in ec2_cli.describe_regions()['Regions']:\r\n",
    "    all_regions.append(each_reg['RegionName'])\r\n",
    "print(all_regions)"
   ],
   "outputs": [
    {
     "output_type": "stream",
     "name": "stdout",
     "text": [
      "['eu-north-1', 'ap-south-1', 'eu-west-3', 'eu-west-2', 'eu-west-1', 'ap-northeast-3', 'ap-northeast-2', 'ap-northeast-1', 'sa-east-1', 'ca-central-1', 'ap-southeast-1', 'ap-southeast-2', 'eu-central-1', 'us-east-1', 'us-east-2', 'us-west-1', 'us-west-2']\n"
     ]
    }
   ],
   "metadata": {}
  },
  {
   "cell_type": "code",
   "execution_count": 17,
   "source": [
    "import boto3\r\n",
    "ec2_cli = boto3.client('ec2')\r\n",
    "all_regions = []\r\n",
    "for each_reg in ec2_cli.describe_regions()['Regions']:\r\n",
    "    all_regions.append(each_reg['RegionName'])\r\n",
    "for each_vol_reg in all_regions:\r\n",
    "    ec2_re = boto3.resource('ec2',region_name=each_vol_reg)\r\n",
    "    #print(each_vol_reg,ec2_re.volumes.all())\r\n",
    "    for each_vol in ec2_re.volumes.filter(Filters=[{'Name': 'status','Values': ['available']}]):\r\n",
    "        print(\"These volumes are going to delete\",each_vol.id)\r\n",
    "        #print(ec2_cli.delete_volume(VolumeId=each_vol.id))"
   ],
   "outputs": [],
   "metadata": {}
  },
  {
   "cell_type": "code",
   "execution_count": 31,
   "source": [
    "import boto3\r\n",
    "ec2_re = boto3.resource('ec2')\r\n",
    "for each_vol in ec2_re.volumes.all():\r\n",
    "    if each_vol.state=='in-use':\r\n",
    "        #print(each_vol.id)\r\n",
    "        if each_vol.tags is 'Name':\r\n",
    "            for tags in each_vol.tags:\r\n",
    "                if tags['Key'] == 'DEVOPS_project':\r\n",
    "                    print(tag['Value'])"
   ],
   "outputs": [],
   "metadata": {}
  },
  {
   "cell_type": "code",
   "execution_count": 35,
   "source": [
    "import boto3\r\n",
    "ec2_cli=boto3.client('ec2')\r\n",
    "for each_vol in ec2_cli.describe_tags()['Tags']:\r\n",
    "    print(each_vol)"
   ],
   "outputs": [
    {
     "output_type": "stream",
     "name": "stdout",
     "text": [
      "{'Key': 'Name', 'ResourceId': 'vol-001e15c5b35b3a8c4', 'ResourceType': 'volume', 'Value': 'jen-slave'}\n",
      "{'Key': 'Name', 'ResourceId': 'vol-0753e04057687612c', 'ResourceType': 'volume', 'Value': 'docker'}\n",
      "{'Key': 'Name', 'ResourceId': 'vol-09de5238a915a10d2', 'ResourceType': 'volume', 'Value': 'Nexus'}\n",
      "{'Key': 'Name', 'ResourceId': 'vol-0aeab35eaa37c953b', 'ResourceType': 'volume', 'Value': 'docker'}\n",
      "{'Key': 'Name', 'ResourceId': 'vol-0e4f96d452fe184dd', 'ResourceType': 'volume', 'Value': 'nexus'}\n",
      "{'Key': 'Name', 'ResourceId': 'vol-0f69b39dd21e5a554', 'ResourceType': 'volume', 'Value': 'dont delete'}\n",
      "{'Key': 'Name', 'ResourceId': 'i-006413cb7dec7a3ba', 'ResourceType': 'instance', 'Value': 'jenkins'}\n",
      "{'Key': 'Name', 'ResourceId': 'i-016bfc893a071ac39', 'ResourceType': 'instance', 'Value': 'docker'}\n",
      "{'Key': 'Name', 'ResourceId': 'i-096f4d42c93c59968', 'ResourceType': 'instance', 'Value': 'jen-slave'}\n",
      "{'Key': 'Name', 'ResourceId': 'i-0d53b7f841ebb421f', 'ResourceType': 'instance', 'Value': 'jenkins'}\n",
      "{'Key': 'Name', 'ResourceId': 'eni-0230203d7629740cd', 'ResourceType': 'network-interface', 'Value': 'docker'}\n",
      "{'Key': 'Name', 'ResourceId': 'eni-079e8d515641788c7', 'ResourceType': 'network-interface', 'Value': 'docker'}\n",
      "{'Key': 'Name', 'ResourceId': 'eni-09b646fcf36de70de', 'ResourceType': 'network-interface', 'Value': 'jen-slave'}\n"
     ]
    }
   ],
   "metadata": {}
  },
  {
   "cell_type": "code",
   "execution_count": 41,
   "source": [
    "import boto3\r\n",
    "ec2_cli=boto3.client('ec2')\r\n",
    "resp = ec2_cli.describe_tags(\r\n",
    "    Filters=[\r\n",
    "        {\r\n",
    "            'Name': 'resource-id',\r\n",
    "            'Values': ['vol-001e15c5b35b3a8c4']\r\n",
    "        }\r\n",
    "    ]\r\n",
    ")\r\n",
    "for each_vol in resp['Tags']:\r\n",
    "    print(each_vol['ResourceId'])\r\n"
   ],
   "outputs": [
    {
     "output_type": "stream",
     "name": "stdout",
     "text": [
      "vol-001e15c5b35b3a8c4\n"
     ]
    }
   ],
   "metadata": {}
  },
  {
   "cell_type": "code",
   "execution_count": 47,
   "source": [
    "import boto3\r\n",
    "ec2_cli = boto3.client('ec2')\r\n",
    "list_volumes=[]\r\n",
    "for each_vol in ec2_cli.describe_volumes()['Volumes']:\r\n",
    "    list_volumes.append(each_vol['VolumeId'])\r\n",
    "print(list_volumes)\r\n",
    "for each_vol in list_volumes:\r\n",
    "    ec2_cli.create_snapshot(\r\n",
    "    Description='creating snapshot',\r\n",
    "    VolumeId=each_vol,\r\n",
    "    TagSpecifications=[\r\n",
    "        {\r\n",
    "            'ResourceType': 'snapshot',\r\n",
    "            'Tags': [\r\n",
    "                {\r\n",
    "                    'Key': 'Snapshot_prod',\r\n",
    "                    'Value': '90'\r\n",
    "                },\r\n",
    "            ]\r\n",
    "        },\r\n",
    "    ],\r\n",
    ")"
   ],
   "outputs": [
    {
     "output_type": "error",
     "ename": "SyntaxError",
     "evalue": "invalid syntax (<ipython-input-47-03b1a9641b52>, line 14)",
     "traceback": [
      "\u001b[1;36m  File \u001b[1;32m\"<ipython-input-47-03b1a9641b52>\"\u001b[1;36m, line \u001b[1;32m14\u001b[0m\n\u001b[1;33m    'Tags': [\u001b[0m\n\u001b[1;37m          ^\u001b[0m\n\u001b[1;31mSyntaxError\u001b[0m\u001b[1;31m:\u001b[0m invalid syntax\n"
     ]
    }
   ],
   "metadata": {}
  }
 ],
 "metadata": {
  "kernelspec": {
   "name": "python3",
   "display_name": "Python 3.6.3 64-bit"
  },
  "language_info": {
   "codemirror_mode": {
    "name": "ipython",
    "version": 3
   },
   "file_extension": ".py",
   "mimetype": "text/x-python",
   "name": "python",
   "nbconvert_exporter": "python",
   "pygments_lexer": "ipython3",
   "version": "3.6.3"
  },
  "interpreter": {
   "hash": "e7c37ba80a6e54a3d63188245ab5de6a3e0d381993bcb1990a7020536fc2299e"
  }
 },
 "nbformat": 4,
 "nbformat_minor": 4
}