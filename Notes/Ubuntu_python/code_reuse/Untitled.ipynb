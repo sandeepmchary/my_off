{
 "cells": [
  {
   "cell_type": "markdown",
   "id": "e73accf0",
   "metadata": {},
   "source": [
    "# Code reuse"
   ]
  },
  {
   "cell_type": "markdown",
   "id": "a9b8ee8f",
   "metadata": {},
   "source": [
    "## first create a programme\n",
    "## then use the same programme in another programme"
   ]
  },
  {
   "cell_type": "markdown",
   "id": "2f406a29",
   "metadata": {},
   "source": [
    "### Save the below programme as areas.py"
   ]
  },
  {
   "cell_type": "code",
   "execution_count": null,
   "id": "b8d2d5cb",
   "metadata": {},
   "outputs": [],
   "source": [
    "import math\n",
    "def triangle(base, height):\n",
    "    return base*height/2\n",
    "def rectangle(base, height):\n",
    "    return base*height\n",
    "def circle(radius):\n",
    "    return math.pi*(radius**2)\n",
    "    # pi r square\n"
   ]
  },
  {
   "cell_type": "markdown",
   "id": "09655577",
   "metadata": {},
   "source": [
    "#### here we are calling the areas.py this is called module"
   ]
  },
  {
   "cell_type": "code",
   "execution_count": 2,
   "id": "d8f1e821",
   "metadata": {},
   "outputs": [],
   "source": [
    "import areas"
   ]
  },
  {
   "cell_type": "code",
   "execution_count": 3,
   "id": "b9101991",
   "metadata": {},
   "outputs": [
    {
     "data": {
      "text/plain": [
       "50.26548245743669"
      ]
     },
     "execution_count": 3,
     "metadata": {},
     "output_type": "execute_result"
    }
   ],
   "source": [
    "areas.circle(4)"
   ]
  },
  {
   "cell_type": "code",
   "execution_count": 4,
   "id": "1ffb7a66",
   "metadata": {},
   "outputs": [
    {
     "data": {
      "text/plain": [
       "12"
      ]
     },
     "execution_count": 4,
     "metadata": {},
     "output_type": "execute_result"
    }
   ],
   "source": [
    "areas.rectangle(3,4)"
   ]
  },
  {
   "cell_type": "code",
   "execution_count": null,
   "id": "3ed7f944",
   "metadata": {},
   "outputs": [],
   "source": []
  }
 ],
 "metadata": {
  "kernelspec": {
   "display_name": "Python 3 (ipykernel)",
   "language": "python",
   "name": "python3"
  },
  "language_info": {
   "codemirror_mode": {
    "name": "ipython",
    "version": 3
   },
   "file_extension": ".py",
   "mimetype": "text/x-python",
   "name": "python",
   "nbconvert_exporter": "python",
   "pygments_lexer": "ipython3",
   "version": "3.8.10"
  }
 },
 "nbformat": 4,
 "nbformat_minor": 5
}
