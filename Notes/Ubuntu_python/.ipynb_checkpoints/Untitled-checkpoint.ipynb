{
 "cells": [
  {
   "cell_type": "code",
   "execution_count": 7,
   "id": "e305f2eb",
   "metadata": {},
   "outputs": [],
   "source": [
    "import os\n",
    "os.chdir(\"/mnt/e/sam/check/Notes/Ubuntu_python/code_reuse/\")"
   ]
  },
  {
   "cell_type": "code",
   "execution_count": 8,
   "id": "55c390ed",
   "metadata": {},
   "outputs": [
    {
     "data": {
      "text/plain": [
       "['2- code_reuse.txt', '2.1-example.py', 'areas.py']"
      ]
     },
     "execution_count": 8,
     "metadata": {},
     "output_type": "execute_result"
    }
   ],
   "source": [
    "os.listdir()"
   ]
  },
  {
   "cell_type": "code",
   "execution_count": null,
   "id": "e1909ad3",
   "metadata": {},
   "outputs": [],
   "source": [
    "# Here we are trying for the "
   ]
  },
  {
   "cell_type": "code",
   "execution_count": null,
   "id": "22609cc5",
   "metadata": {},
   "outputs": [],
   "source": [
    "import math\n",
    "def triangle(base, height):\n",
    "    return base*height/2\n"
   ]
  }
 ],
 "metadata": {
  "kernelspec": {
   "display_name": "Python 3 (ipykernel)",
   "language": "python",
   "name": "python3"
  },
  "language_info": {
   "codemirror_mode": {
    "name": "ipython",
    "version": 3
   },
   "file_extension": ".py",
   "mimetype": "text/x-python",
   "name": "python",
   "nbconvert_exporter": "python",
   "pygments_lexer": "ipython3",
   "version": "3.8.10"
  }
 },
 "nbformat": 4,
 "nbformat_minor": 5
}
