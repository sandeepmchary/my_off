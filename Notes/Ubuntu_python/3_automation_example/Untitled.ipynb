{
 "cells": [
  {
   "cell_type": "code",
   "execution_count": 1,
   "id": "2936afd4",
   "metadata": {},
   "outputs": [
    {
     "data": {
      "text/plain": [
       "['COPY_BUFSIZE',\n",
       " 'Error',\n",
       " 'ExecError',\n",
       " 'ReadError',\n",
       " 'RegistryError',\n",
       " 'SameFileError',\n",
       " 'SpecialFileError',\n",
       " '_ARCHIVE_FORMATS',\n",
       " '_BZ2_SUPPORTED',\n",
       " '_GiveupOnFastCopy',\n",
       " '_HAS_FCOPYFILE',\n",
       " '_LZMA_SUPPORTED',\n",
       " '_UNPACK_FORMATS',\n",
       " '_USE_CP_SENDFILE',\n",
       " '_WINDOWS',\n",
       " '_WIN_DEFAULT_PATHEXT',\n",
       " '_ZLIB_SUPPORTED',\n",
       " '__all__',\n",
       " '__builtins__',\n",
       " '__cached__',\n",
       " '__doc__',\n",
       " '__file__',\n",
       " '__loader__',\n",
       " '__name__',\n",
       " '__package__',\n",
       " '__spec__',\n",
       " '_access_check',\n",
       " '_basename',\n",
       " '_check_unpack_options',\n",
       " '_copyfileobj_readinto',\n",
       " '_copytree',\n",
       " '_copyxattr',\n",
       " '_destinsrc',\n",
       " '_ensure_directory',\n",
       " '_fastcopy_fcopyfile',\n",
       " '_fastcopy_sendfile',\n",
       " '_find_unpack_format',\n",
       " '_get_gid',\n",
       " '_get_uid',\n",
       " '_is_immutable',\n",
       " '_islink',\n",
       " '_make_tarball',\n",
       " '_make_zipfile',\n",
       " '_ntuple_diskusage',\n",
       " '_rmtree_isdir',\n",
       " '_rmtree_islink',\n",
       " '_rmtree_safe_fd',\n",
       " '_rmtree_unsafe',\n",
       " '_samefile',\n",
       " '_stat',\n",
       " '_unpack_tarfile',\n",
       " '_unpack_zipfile',\n",
       " '_use_fd_functions',\n",
       " 'chown',\n",
       " 'collections',\n",
       " 'copy',\n",
       " 'copy2',\n",
       " 'copyfile',\n",
       " 'copyfileobj',\n",
       " 'copymode',\n",
       " 'copystat',\n",
       " 'copytree',\n",
       " 'disk_usage',\n",
       " 'errno',\n",
       " 'fnmatch',\n",
       " 'get_archive_formats',\n",
       " 'get_terminal_size',\n",
       " 'get_unpack_formats',\n",
       " 'getgrnam',\n",
       " 'getpwnam',\n",
       " 'ignore_patterns',\n",
       " 'make_archive',\n",
       " 'move',\n",
       " 'nt',\n",
       " 'os',\n",
       " 'posix',\n",
       " 'register_archive_format',\n",
       " 'register_unpack_format',\n",
       " 'rmtree',\n",
       " 'stat',\n",
       " 'sys',\n",
       " 'unpack_archive',\n",
       " 'unregister_archive_format',\n",
       " 'unregister_unpack_format',\n",
       " 'which']"
      ]
     },
     "execution_count": 1,
     "metadata": {},
     "output_type": "execute_result"
    }
   ],
   "source": [
    "import shutil\n",
    "dir(shutil)"
   ]
  },
  {
   "cell_type": "code",
   "execution_count": 3,
   "id": "ffad5c9d",
   "metadata": {},
   "outputs": [
    {
     "name": "stdout",
     "output_type": "stream",
     "text": [
      "usage(total=334809264128, used=92392534016, free=242416730112)\n"
     ]
    }
   ],
   "source": [
    "import shutil\n",
    "du = shutil.disk_usage(\"/\")\n",
    "print(du)"
   ]
  },
  {
   "cell_type": "code",
   "execution_count": 4,
   "id": "eb7b8a1b",
   "metadata": {},
   "outputs": [
    {
     "data": {
      "text/plain": [
       "72.40442726200142"
      ]
     },
     "execution_count": 4,
     "metadata": {},
     "output_type": "execute_result"
    }
   ],
   "source": [
    "du.free/du.total*100"
   ]
  },
  {
   "cell_type": "code",
   "execution_count": 6,
   "id": "484b2e44",
   "metadata": {},
   "outputs": [
    {
     "data": {
      "text/plain": [
       "['AF_LINK',\n",
       " 'AIX',\n",
       " 'AccessDenied',\n",
       " 'BSD',\n",
       " 'CONN_CLOSE',\n",
       " 'CONN_CLOSE_WAIT',\n",
       " 'CONN_CLOSING',\n",
       " 'CONN_ESTABLISHED',\n",
       " 'CONN_FIN_WAIT1',\n",
       " 'CONN_FIN_WAIT2',\n",
       " 'CONN_LAST_ACK',\n",
       " 'CONN_LISTEN',\n",
       " 'CONN_NONE',\n",
       " 'CONN_SYN_RECV',\n",
       " 'CONN_SYN_SENT',\n",
       " 'CONN_TIME_WAIT',\n",
       " 'Error',\n",
       " 'FREEBSD',\n",
       " 'IOPRIO_CLASS_BE',\n",
       " 'IOPRIO_CLASS_IDLE',\n",
       " 'IOPRIO_CLASS_NONE',\n",
       " 'IOPRIO_CLASS_RT',\n",
       " 'LINUX',\n",
       " 'MACOS',\n",
       " 'NETBSD',\n",
       " 'NIC_DUPLEX_FULL',\n",
       " 'NIC_DUPLEX_HALF',\n",
       " 'NIC_DUPLEX_UNKNOWN',\n",
       " 'NoSuchProcess',\n",
       " 'OPENBSD',\n",
       " 'OSX',\n",
       " 'POSIX',\n",
       " 'POWER_TIME_UNKNOWN',\n",
       " 'POWER_TIME_UNLIMITED',\n",
       " 'PROCFS_PATH',\n",
       " 'PermissionError',\n",
       " 'Popen',\n",
       " 'Process',\n",
       " 'ProcessLookupError',\n",
       " 'RLIMIT_AS',\n",
       " 'RLIMIT_CORE',\n",
       " 'RLIMIT_CPU',\n",
       " 'RLIMIT_DATA',\n",
       " 'RLIMIT_FSIZE',\n",
       " 'RLIMIT_LOCKS',\n",
       " 'RLIMIT_MEMLOCK',\n",
       " 'RLIMIT_MSGQUEUE',\n",
       " 'RLIMIT_NICE',\n",
       " 'RLIMIT_NOFILE',\n",
       " 'RLIMIT_NPROC',\n",
       " 'RLIMIT_RSS',\n",
       " 'RLIMIT_RTPRIO',\n",
       " 'RLIMIT_SIGPENDING',\n",
       " 'RLIMIT_STACK',\n",
       " 'RLIM_INFINITY',\n",
       " 'STATUS_DEAD',\n",
       " 'STATUS_DISK_SLEEP',\n",
       " 'STATUS_IDLE',\n",
       " 'STATUS_LOCKED',\n",
       " 'STATUS_PARKED',\n",
       " 'STATUS_RUNNING',\n",
       " 'STATUS_SLEEPING',\n",
       " 'STATUS_STOPPED',\n",
       " 'STATUS_TRACING_STOP',\n",
       " 'STATUS_WAITING',\n",
       " 'STATUS_WAKING',\n",
       " 'STATUS_ZOMBIE',\n",
       " 'SUNOS',\n",
       " 'TimeoutExpired',\n",
       " 'WINDOWS',\n",
       " 'ZombieProcess',\n",
       " '_LOWEST_PID',\n",
       " '_PY3',\n",
       " '_SENTINEL',\n",
       " '_TOTAL_PHYMEM',\n",
       " '__all__',\n",
       " '__author__',\n",
       " '__builtins__',\n",
       " '__cached__',\n",
       " '__doc__',\n",
       " '__file__',\n",
       " '__loader__',\n",
       " '__name__',\n",
       " '__package__',\n",
       " '__path__',\n",
       " '__spec__',\n",
       " '__version__',\n",
       " '_as_dict_attrnames',\n",
       " '_assert_pid_not_reused',\n",
       " '_common',\n",
       " '_compat',\n",
       " '_cpu_busy_time',\n",
       " '_cpu_times_deltas',\n",
       " '_cpu_tot_time',\n",
       " '_last_cpu_times',\n",
       " '_last_cpu_times_2',\n",
       " '_last_per_cpu_times',\n",
       " '_last_per_cpu_times_2',\n",
       " '_lock',\n",
       " '_pmap',\n",
       " '_ppid_map',\n",
       " '_pprint_secs',\n",
       " '_pslinux',\n",
       " '_psplatform',\n",
       " '_psposix',\n",
       " '_psutil_linux',\n",
       " '_psutil_posix',\n",
       " '_timer',\n",
       " '_wrap_numbers',\n",
       " 'boot_time',\n",
       " 'collections',\n",
       " 'contextlib',\n",
       " 'cpu_count',\n",
       " 'cpu_freq',\n",
       " 'cpu_percent',\n",
       " 'cpu_stats',\n",
       " 'cpu_times',\n",
       " 'cpu_times_percent',\n",
       " 'datetime',\n",
       " 'disk_io_counters',\n",
       " 'disk_partitions',\n",
       " 'disk_usage',\n",
       " 'functools',\n",
       " 'getloadavg',\n",
       " 'long',\n",
       " 'net_connections',\n",
       " 'net_if_addrs',\n",
       " 'net_if_stats',\n",
       " 'net_io_counters',\n",
       " 'os',\n",
       " 'pid_exists',\n",
       " 'pids',\n",
       " 'process_iter',\n",
       " 'pwd',\n",
       " 'sensors_battery',\n",
       " 'sensors_fans',\n",
       " 'sensors_temperatures',\n",
       " 'signal',\n",
       " 'subprocess',\n",
       " 'swap_memory',\n",
       " 'sys',\n",
       " 'test',\n",
       " 'threading',\n",
       " 'time',\n",
       " 'users',\n",
       " 'version_info',\n",
       " 'virtual_memory',\n",
       " 'wait_procs']"
      ]
     },
     "execution_count": 6,
     "metadata": {},
     "output_type": "execute_result"
    }
   ],
   "source": [
    "import psutil\n",
    "dir(psutil)"
   ]
  },
  {
   "cell_type": "markdown",
   "id": "f2526d54",
   "metadata": {},
   "source": [
    "### this is for cpu usage, psutil with cpu_percent function that returns the no. how much cpu being is used, the amount\n",
    "### cpu usage is differ from one to another since processor is starting and finishing all the time\n",
    "### this function receives intervals of seconds and returns the average percentage of usage in the interval"
   ]
  },
  {
   "cell_type": "code",
   "execution_count": 11,
   "id": "fea20189",
   "metadata": {},
   "outputs": [
    {
     "data": {
      "text/plain": [
       "23.3"
      ]
     },
     "execution_count": 11,
     "metadata": {},
     "output_type": "execute_result"
    }
   ],
   "source": [
    "import psutil\n",
    "psutil.cpu_percent(interval=0.1)"
   ]
  },
  {
   "cell_type": "code",
   "execution_count": null,
   "id": "64505311",
   "metadata": {},
   "outputs": [],
   "source": [
    "### health_check.py\n",
    "### two health checks\n",
    "### check_disk_usage() this is will check disk(path) returns true if it is more than 20% free or false if it is less\n",
    "### check_cpu_usage() we will check the usage for the whole second, the cpu is healthy if the cpu usage is less than\n",
    "### 75%\n"
   ]
  },
  {
   "cell_type": "code",
   "execution_count": 12,
   "id": "da5e024b",
   "metadata": {},
   "outputs": [
    {
     "name": "stdout",
     "output_type": "stream",
     "text": [
      "Everything is OK!\n"
     ]
    }
   ],
   "source": [
    "import shutil\n",
    "import psutil\n",
    "\n",
    "def check_disk_usage(disk):\n",
    "    du = shutil.disk_usage(disk)\n",
    "    free = du.free/du.total * 100\n",
    "    return free > 20\n",
    "def check_cpu_usage():\n",
    "    usage = psutil.cpu_percent(1)\n",
    "    return usage < 75\n",
    "\n",
    "if not check_disk_usage(\"/\") or not check_cpu_usage():\n",
    "    print(\"error\")\n",
    "else:\n",
    "    print(\"Everything is OK!\")\n"
   ]
  },
  {
   "cell_type": "code",
   "execution_count": null,
   "id": "f1f1f3de",
   "metadata": {},
   "outputs": [],
   "source": []
  },
  {
   "cell_type": "code",
   "execution_count": null,
   "id": "c51992eb",
   "metadata": {},
   "outputs": [],
   "source": []
  },
  {
   "cell_type": "code",
   "execution_count": null,
   "id": "373053ea",
   "metadata": {},
   "outputs": [],
   "source": []
  },
  {
   "cell_type": "code",
   "execution_count": null,
   "id": "61de36b0",
   "metadata": {},
   "outputs": [],
   "source": []
  },
  {
   "cell_type": "code",
   "execution_count": null,
   "id": "24aae75d",
   "metadata": {},
   "outputs": [],
   "source": []
  },
  {
   "cell_type": "code",
   "execution_count": null,
   "id": "e451f110",
   "metadata": {},
   "outputs": [],
   "source": []
  },
  {
   "cell_type": "code",
   "execution_count": null,
   "id": "a9e32da8",
   "metadata": {},
   "outputs": [],
   "source": []
  },
  {
   "cell_type": "code",
   "execution_count": null,
   "id": "5ce860cc",
   "metadata": {},
   "outputs": [],
   "source": []
  }
 ],
 "metadata": {
  "kernelspec": {
   "display_name": "Python 3 (ipykernel)",
   "language": "python",
   "name": "python3"
  },
  "language_info": {
   "codemirror_mode": {
    "name": "ipython",
    "version": 3
   },
   "file_extension": ".py",
   "mimetype": "text/x-python",
   "name": "python",
   "nbconvert_exporter": "python",
   "pygments_lexer": "ipython3",
   "version": "3.8.10"
  }
 },
 "nbformat": 4,
 "nbformat_minor": 5
}
