{
 "cells": [
  {
   "cell_type": "code",
   "execution_count": 1,
   "metadata": {},
   "outputs": [
    {
     "name": "stdout",
     "output_type": "stream",
     "text": [
      "file exists\n"
     ]
    }
   ],
   "source": [
    "open('subproceqss.txt')\n",
    "print(\"file exists\")"
   ]
  },
  {
   "cell_type": "code",
   "execution_count": 3,
   "metadata": {},
   "outputs": [
    {
     "name": "stdout",
     "output_type": "stream",
     "text": [
      "file exists\n",
      "<_io.TextIOWrapper name='subprocess.txt' mode='r' encoding='cp1252'>\n"
     ]
    }
   ],
   "source": [
    "open('subprocess.txt')\n",
    "print(\"file exists\")\n",
    "try:\n",
    "    file = open('subprocess.txt')\n",
    "    print(file)\n",
    "    file.close()\n",
    "except FileNotFoundError:\n",
    "    print(\"Sorry the file we\\'re looking for doesn\\'t exist\")\n",
    "    exit()"
   ]
  },
  {
   "cell_type": "code",
   "execution_count": 4,
   "metadata": {},
   "outputs": [
    {
     "name": "stdout",
     "output_type": "stream",
     "text": [
      "Sorry the file we're looking for doesn't exists\n"
     ]
    }
   ],
   "source": [
    "try:\n",
    "    with open('subproceess.txt') as file:\n",
    "        print(file)\n",
    "except FileNotFoundError:\n",
    "    print(\"Sorry the file we\\'re looking for doesn\\'t exists\")"
   ]
  },
  {
   "cell_type": "code",
   "execution_count": 5,
   "metadata": {},
   "outputs": [
    {
     "data": {
      "text/plain": [
       "True"
      ]
     },
     "execution_count": 5,
     "metadata": {},
     "output_type": "execute_result"
    }
   ],
   "source": [
    "import os\n",
    "os.path.exists('subprocess.txt')"
   ]
  },
  {
   "cell_type": "code",
   "execution_count": null,
   "metadata": {},
   "outputs": [],
   "source": []
  }
 ],
 "metadata": {
  "kernelspec": {
   "display_name": "Python 3",
   "language": "python",
   "name": "python3"
  },
  "language_info": {
   "codemirror_mode": {
    "name": "ipython",
    "version": 3
   },
   "file_extension": ".py",
   "mimetype": "text/x-python",
   "name": "python",
   "nbconvert_exporter": "python",
   "pygments_lexer": "ipython3",
   "version": "3.6.3"
  }
 },
 "nbformat": 4,
 "nbformat_minor": 4
}
