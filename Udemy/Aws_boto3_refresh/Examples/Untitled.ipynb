{
 "cells": [
  {
   "cell_type": "code",
   "execution_count": 28,
   "metadata": {},
   "outputs": [
    {
     "name": "stdout",
     "output_type": "stream",
     "text": [
      "The List of volume id's are:  ['vol-0b5e5ebd2ef73b46c', 'vol-054b32b2b6ef45872']\n",
      "Taking snap of vol-0b5e5ebd2ef73b46c\n",
      "The Snap id's are ['snap-09d0ce56d6c94dd96']\n",
      "Taking snap of vol-054b32b2b6ef45872\n",
      "The Snap id's are ['snap-09d0ce56d6c94dd96', 'snap-0ce81f5b8db601ac6']\n"
     ]
    }
   ],
   "source": [
    "import boto3\n",
    "from pprint import pprint\n",
    "from pprint import pprint\n",
    "ec2_cli = boto3.client('ec2')\n",
    "list_of_volid=[]\n",
    "snapids=[]\n",
    "'''\n",
    "for each_vol in ec2_cli.describe_volumes(Filters=[{'Name':'tag:Prod','Values':['Devops']}])['Volumes']:\n",
    "\tlist_of_volid.append(each_vol['VolumeId'])\n",
    "\tprint(each_vol)\n",
    "print(\"list of volume ids are\", list_of_volid)\n",
    "'''\n",
    "paginator=ec2_cli.get_paginator('describe_volumes')\n",
    "for each_page in paginator.paginate(Filters=[{'Name':'tag:Prod','Values':['Devops']}]):\n",
    "    for each_vol in each_page['Volumes']:\n",
    "        #pprint(each_vol['VolumeId'])\n",
    "        list_of_volid.append(each_vol['VolumeId'])\n",
    "print(\"The List of volume id's are: \", list_of_volid)\n",
    "for each_volid in list_of_volid:\n",
    "    print(\"Taking snap of {}\".format(each_volid))\n",
    "    resp=ec2_cli.create_snapshot(\n",
    "        VolumeId=each_volid,\n",
    "        TagSpecifications=[\n",
    "            {\n",
    "                'ResourceType':'snapshot',\n",
    "                'Tags':[\n",
    "                    {\n",
    "                        'Key':'snap_shot',\n",
    "                        'Value':'90'\n",
    "                    }\n",
    "                ]\n",
    "            }\n",
    "        ],\n",
    "              \n",
    "                              )\n",
    "    snapids.append(resp['SnapshotId'])\n",
    "    waiter = ec2_cli.get_waiter('snapshot_completed')\n",
    "    waiter.wait(SnapshotIds=snapids)\n",
    "    print(\"The Snap id's are {}\".format(snapids))\n"
   ]
  },
  {
   "cell_type": "markdown",
   "metadata": {},
   "source": [
    "## The filters we have to take is for volumes not for ec2 "
   ]
  }
 ],
 "metadata": {
  "kernelspec": {
   "display_name": "Python 3",
   "language": "python",
   "name": "python3"
  },
  "language_info": {
   "codemirror_mode": {
    "name": "ipython",
    "version": 3
   },
   "file_extension": ".py",
   "mimetype": "text/x-python",
   "name": "python",
   "nbconvert_exporter": "python",
   "pygments_lexer": "ipython3",
   "version": "3.8.1"
  }
 },
 "nbformat": 4,
 "nbformat_minor": 4
}
