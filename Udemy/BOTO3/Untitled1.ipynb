{
 "cells": [
  {
   "cell_type": "code",
   "execution_count": 20,
   "metadata": {},
   "outputs": [
    {
     "name": "stdout",
     "output_type": "stream",
     "text": [
      "{'KeyPairId': 'key-06b65029a01da8399', 'KeyFingerprint': '54:aa:6e:b4:2d:31:fc:f0:62:b9:39:f4:3a:87:ef:f5:5a:9d:93:37', 'KeyName': 'samdevops', 'Tags': []}\n"
     ]
    }
   ],
   "source": [
    "import boto3\n",
    "ec2_cli=boto3.client('ec2')\n",
    "for each in ec2_cli.describe_key_pairs()['KeyPairs']:\n",
    "    print(each)\n"
   ]
  },
  {
   "cell_type": "code",
   "execution_count": 19,
   "metadata": {},
   "outputs": [],
   "source": [
    "import boto3\n",
    "ec2_cli=boto3.client('ec2')\n",
    "response=ec2_cli.delete_key_pair(KeyName='ec2_key_pair')"
   ]
  },
  {
   "cell_type": "code",
   "execution_count": null,
   "metadata": {},
   "outputs": [],
   "source": []
  }
 ],
 "metadata": {
  "kernelspec": {
   "display_name": "Python 3",
   "language": "python",
   "name": "python3"
  },
  "language_info": {
   "codemirror_mode": {
    "name": "ipython",
    "version": 3
   },
   "file_extension": ".py",
   "mimetype": "text/x-python",
   "name": "python",
   "nbconvert_exporter": "python",
   "pygments_lexer": "ipython3",
   "version": "3.8.1"
  }
 },
 "nbformat": 4,
 "nbformat_minor": 4
}
