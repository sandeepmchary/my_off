{
 "cells": [
  {
   "cell_type": "code",
   "execution_count": 3,
   "metadata": {},
   "outputs": [
    {
     "name": "stdout",
     "output_type": "stream",
     "text": [
      "['.ipynb_checkpoints', 'Cute-.jpg', 'delete_file_s3.py', 'lion.jpg', 'Untitled.ipynb', 'Untitled1.ipynb', 'upload_to_s3.py']\n",
      "Now the Time is: 2020-07-05 20:19:48.237064\n",
      "752020\n",
      "{'ResponseMetadata': {'RequestId': '35998F41F14A3520', 'HostId': 'hVfJmHlZewWTYwAyrGN1je744w0ADH3I6gr6DbLHOvhPvbKiXdfErtBiPylbXCQqIM5pDsxcT1c=', 'HTTPStatusCode': 200, 'HTTPHeaders': {'x-amz-id-2': 'hVfJmHlZewWTYwAyrGN1je744w0ADH3I6gr6DbLHOvhPvbKiXdfErtBiPylbXCQqIM5pDsxcT1c=', 'x-amz-request-id': '35998F41F14A3520', 'date': 'Sun, 05 Jul 2020 14:49:52 GMT', 'etag': '\"d905811f5776ee53405287d75ab00791\"', 'content-length': '0', 'server': 'AmazonS3'}, 'RetryAttempts': 1}, 'ETag': '\"d905811f5776ee53405287d75ab00791\"'}\n"
     ]
    }
   ],
   "source": [
    "import boto3\n",
    "import os\n",
    "import sys\n",
    "import pandas as pd\n",
    "import matplotlib.pyplot as plt\n",
    "import datetime\n",
    "from pprint import pprint\n",
    "l_f=os.listdir()\n",
    "print(l_f)\n",
    "d=datetime.datetime.now()\n",
    "print(\"Now the Time is:\",d)\n",
    "current_time=\"{}{}{}\".format(d.month,d.day,d.year)\n",
    "print(current_time)\n",
    "client = boto3.client('s3')\n",
    "'''\n",
    "response=client.create_bucket(\n",
    "\t       ACL='private',\n",
    "\t       Bucket='samantha{}'.format(current_time),\n",
    "\t       CreateBucketConfiguration={\n",
    "\t          'LocationConstraint':'us-east-2'\n",
    "\t       }\n",
    "\t       )\n",
    "print(response)\n",
    "'''\n",
    "# upload files to s3 Buckets\n",
    "'''\n",
    "with open(\"Cute-.jpg\",'rb') as f:\n",
    "\tdata=f.read()\n",
    "#print(data)\n",
    "response=client.put_object(\n",
    "\t      ACL='private',\n",
    "\t      Bucket='samantha{}'.format(current_time),\n",
    "\t      Body=data,\n",
    "\t      Key='Cute-.jpg')\n",
    "pprint(response)\n",
    "'''\n",
    "# again with lion file\n",
    "with open(\"lion.jpg\",'rb') as f:\n",
    "\tdata=f.read()\n",
    "response=client.put_object(\n",
    "\t      ACL='private',\n",
    "\t      Bucket='samantha{}'.format(current_time),\n",
    "\t      Body=data,\n",
    "\t      Key='lion.jpg')\n",
    "print(response)\n"
   ]
  },
  {
   "cell_type": "code",
   "execution_count": 4,
   "metadata": {},
   "outputs": [
    {
     "name": "stdout",
     "output_type": "stream",
     "text": [
      "{'ETag': '\"d905811f5776ee53405287d75ab00791\"',\n",
      " 'ResponseMetadata': {'HTTPHeaders': {'content-length': '0',\n",
      "                                      'date': 'Sun, 05 Jul 2020 14:49:52 GMT',\n",
      "                                      'etag': '\"d905811f5776ee53405287d75ab00791\"',\n",
      "                                      'server': 'AmazonS3',\n",
      "                                      'x-amz-id-2': 'hVfJmHlZewWTYwAyrGN1je744w0ADH3I6gr6DbLHOvhPvbKiXdfErtBiPylbXCQqIM5pDsxcT1c=',\n",
      "                                      'x-amz-request-id': '35998F41F14A3520'},\n",
      "                      'HTTPStatusCode': 200,\n",
      "                      'HostId': 'hVfJmHlZewWTYwAyrGN1je744w0ADH3I6gr6DbLHOvhPvbKiXdfErtBiPylbXCQqIM5pDsxcT1c=',\n",
      "                      'RequestId': '35998F41F14A3520',\n",
      "                      'RetryAttempts': 1}}\n"
     ]
    }
   ],
   "source": [
    "pprint(response)"
   ]
  },
  {
   "cell_type": "code",
   "execution_count": null,
   "metadata": {},
   "outputs": [],
   "source": []
  }
 ],
 "metadata": {
  "kernelspec": {
   "display_name": "Python 3",
   "language": "python",
   "name": "python3"
  },
  "language_info": {
   "codemirror_mode": {
    "name": "ipython",
    "version": 3
   },
   "file_extension": ".py",
   "mimetype": "text/x-python",
   "name": "python",
   "nbconvert_exporter": "python",
   "pygments_lexer": "ipython3",
   "version": "3.8.1"
  }
 },
 "nbformat": 4,
 "nbformat_minor": 4
}
