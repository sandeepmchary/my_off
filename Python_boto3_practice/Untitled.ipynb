{
 "cells": [
  {
   "cell_type": "code",
   "execution_count": 2,
   "metadata": {},
   "outputs": [
    {
     "name": "stdout",
     "output_type": "stream",
     "text": [
      "100\n"
     ]
    }
   ],
   "source": [
    "#optional parameter\n",
    "def func(x):\n",
    "    return x **2\n",
    "call=func(10)\n",
    "print(call)"
   ]
  },
  {
   "cell_type": "code",
   "execution_count": 4,
   "metadata": {},
   "outputs": [
    {
     "name": "stdout",
     "output_type": "stream",
     "text": [
      "81\n"
     ]
    }
   ],
   "source": [
    "#optional parameter\n",
    "def func(x=8):\n",
    "    return x **2\n",
    "call=func(9)\n",
    "print(call)"
   ]
  },
  {
   "cell_type": "code",
   "execution_count": 11,
   "metadata": {},
   "outputs": [
    {
     "name": "stdout",
     "output_type": "stream",
     "text": [
      "samanthasamanthasamanthasamanthasamanthasamanthasamanthasamanthasamantha\n"
     ]
    }
   ],
   "source": [
    "def func(word,freq=9):\n",
    "    return (word*freq)\n",
    "call=func('samantha')\n",
    "print(call)"
   ]
  },
  {
   "cell_type": "markdown",
   "metadata": {},
   "source": [
    "### The default value of frequency is 9 \n",
    "### we may or may not give the freq times\n",
    "### if we provide freq times it will take the given number or else it will take the default one\n",
    "### "
   ]
  },
  {
   "cell_type": "code",
   "execution_count": 12,
   "metadata": {},
   "outputs": [
    {
     "name": "stdout",
     "output_type": "stream",
     "text": [
      "90\n"
     ]
    }
   ],
   "source": [
    "# here the 10 is assigned to word \n",
    "\n",
    "def func(word,freq=9):\n",
    "    return (word*freq)\n",
    "call=func(10)\n",
    "print(call)"
   ]
  },
  {
   "cell_type": "code",
   "execution_count": 14,
   "metadata": {},
   "outputs": [
    {
     "name": "stdout",
     "output_type": "stream",
     "text": [
      "70\n"
     ]
    }
   ],
   "source": [
    "# here we are adding 1 more argument\n",
    "def func(word,add=5,freq=9):\n",
    "    print(word*(add+freq))\n",
    "call=func(5)"
   ]
  },
  {
   "cell_type": "code",
   "execution_count": null,
   "metadata": {},
   "outputs": [],
   "source": []
  }
 ],
 "metadata": {
  "kernelspec": {
   "display_name": "Python 3",
   "language": "python",
   "name": "python3"
  },
  "language_info": {
   "codemirror_mode": {
    "name": "ipython",
    "version": 3
   },
   "file_extension": ".py",
   "mimetype": "text/x-python",
   "name": "python",
   "nbconvert_exporter": "python",
   "pygments_lexer": "ipython3",
   "version": "3.8.0"
  }
 },
 "nbformat": 4,
 "nbformat_minor": 4
}
